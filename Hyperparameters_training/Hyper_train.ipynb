{
 "cells": [
  {
   "cell_type": "code",
   "execution_count": 19,
   "id": "initial_id",
   "metadata": {
    "collapsed": true,
    "ExecuteTime": {
     "end_time": "2023-12-10T19:11:16.668817200Z",
     "start_time": "2023-12-10T19:11:16.635056800Z"
    }
   },
   "outputs": [],
   "source": [
    "import pandas as pd\n",
    "import numpy as np\n",
    "import sklearn\n",
    "import xgboost as xgb\n",
    "import matplotlib.pyplot as plt\n",
    "from sklearn.model_selection import RandomizedSearchCV\n",
    "from sklearn.model_selection import train_test_split, StratifiedKFold\n",
    "sklearn.set_config(transform_output='pandas')\n",
    "from sklearn.metrics import mean_squared_error, mean_absolute_error\n",
    "\n",
    "import pandas as pd\n",
    "import numpy as np\n",
    "import matplotlib as mpl\n",
    "import matplotlib.pyplot as plt\n",
    "from sklearn.pipeline import Pipeline\n",
    "from sklearn.model_selection import RandomizedSearchCV, GridSearchCV\n",
    "from sklearn.model_selection import train_test_split, StratifiedKFold, KFold\n",
    "from sklearn.preprocessing import LabelEncoder\n",
    "\n",
    "\n",
    "from sklearn.pipeline import Pipeline\n",
    "from sklearn.impute import KNNImputer, SimpleImputer\n",
    "from sklearn.preprocessing import PowerTransformer\n",
    "from sklearn.preprocessing import StandardScaler, OneHotEncoder, RobustScaler\n",
    "from sklearn.linear_model import LogisticRegression\n",
    "from sklearn.metrics import mean_squared_error\n",
    "from sklearn.model_selection import cross_val_score\n",
    "from functools import partial\n",
    "import optuna\n",
    "from sklearn.compose import ColumnTransformer\n",
    "import joblib\n",
    "\n",
    "import warnings; warnings.filterwarnings('ignore')\n"
   ]
  },
  {
   "cell_type": "markdown",
   "source": [
    "### 1. Abstract\n",
    "In this notebook we will consider 3 ways of hyperparameters optimization:\n",
    "\n",
    "- by Grid Search\n",
    "- by Random Search\n",
    "- by Optuna optimization module\n"
   ],
   "metadata": {
    "collapsed": false
   },
   "id": "804f6f727b42dd0f"
  },
  {
   "cell_type": "markdown",
   "source": [
    "For testing purposes we will use the Student Classification Dataset from Kaggle (https://www.kaggle.com/datasets/jacksondivakarr/student-classification-dataset).\n",
    "\n",
    "About Dataset\n",
    "This dataset encompasses various aspects related to student performance. Each entry is uniquely identified by an 'Id'. The dataset includes demographic information such as 'Student_Age' and 'Sex'. 'High_School_Type' categorizes the type of high school attended, while 'Scholarship' indicates whether the student has a scholarship. Details about 'Additional_Work' and involvement in 'Sports_activity' provide insights into extracurricular commitments.\n",
    "\n",
    "'Transportation' outlines the mode of commuting for each student. Academic aspects are captured through 'Weekly_Study_Hours', 'Attendance', and evaluations of 'Reading', 'Notes', and 'Listening_in_Class'. The culmination of these factors is reflected in the 'Grade' column, providing a comprehensive overview of student performance. This dataset serves as a valuable resource for exploring the multifaceted dynamics influencing academic outcomes. \n",
    "\n",
    "We will try to solve classification problem for \"Grade\" data"
   ],
   "metadata": {
    "collapsed": false
   },
   "id": "62193cfbc4f24b15"
  },
  {
   "cell_type": "code",
   "execution_count": 2,
   "outputs": [
    {
     "data": {
      "text/plain": "     Student_Age     Sex High_School_Type Scholarship Additional_Work  \\\n0             21    Male            Other         50%             Yes   \n1             20    Male            Other         50%             Yes   \n2             21    Male            State         50%              No   \n3             18  Female          Private         50%             Yes   \n4             22    Male          Private         50%              No   \n..           ...     ...              ...         ...             ...   \n140           22  Female            State         50%             Yes   \n141           18  Female            State         75%              No   \n142           18  Female          Private         75%              No   \n143           22  Female            State         75%             Yes   \n144           18  Female          Private        100%              No   \n\n    Sports_activity Transportation  Weekly_Study_Hours Attendance Reading  \\\n0                No        Private                   0     Always     Yes   \n1                No        Private                   0     Always     Yes   \n2                No        Private                   2      Never      No   \n3                No            Bus                   2     Always      No   \n4                No            Bus                  12     Always     Yes   \n..              ...            ...                 ...        ...     ...   \n140             Yes        Private                   0     Always      No   \n141              No        Private                   0      Never      No   \n142              No        Private                   0     Always     Yes   \n143             Yes            Bus                  12  Sometimes      No   \n144              No        Private                  12     Always     Yes   \n\n    Notes Listening_in_Class Project_work Grade  \n0     Yes                 No           No    AA  \n1      No                Yes          Yes    AA  \n2      No                 No          Yes    AA  \n3     Yes                 No           No    AA  \n4      No                Yes          Yes    AA  \n..    ...                ...          ...   ...  \n140   Yes                 No          Yes    CC  \n141   Yes                Yes           No    CC  \n142    No                 No           No    AA  \n143   Yes                 No          Yes    CB  \n144    No                Yes           No    BB  \n\n[145 rows x 14 columns]",
      "text/html": "<div>\n<style scoped>\n    .dataframe tbody tr th:only-of-type {\n        vertical-align: middle;\n    }\n\n    .dataframe tbody tr th {\n        vertical-align: top;\n    }\n\n    .dataframe thead th {\n        text-align: right;\n    }\n</style>\n<table border=\"1\" class=\"dataframe\">\n  <thead>\n    <tr style=\"text-align: right;\">\n      <th></th>\n      <th>Student_Age</th>\n      <th>Sex</th>\n      <th>High_School_Type</th>\n      <th>Scholarship</th>\n      <th>Additional_Work</th>\n      <th>Sports_activity</th>\n      <th>Transportation</th>\n      <th>Weekly_Study_Hours</th>\n      <th>Attendance</th>\n      <th>Reading</th>\n      <th>Notes</th>\n      <th>Listening_in_Class</th>\n      <th>Project_work</th>\n      <th>Grade</th>\n    </tr>\n  </thead>\n  <tbody>\n    <tr>\n      <th>0</th>\n      <td>21</td>\n      <td>Male</td>\n      <td>Other</td>\n      <td>50%</td>\n      <td>Yes</td>\n      <td>No</td>\n      <td>Private</td>\n      <td>0</td>\n      <td>Always</td>\n      <td>Yes</td>\n      <td>Yes</td>\n      <td>No</td>\n      <td>No</td>\n      <td>AA</td>\n    </tr>\n    <tr>\n      <th>1</th>\n      <td>20</td>\n      <td>Male</td>\n      <td>Other</td>\n      <td>50%</td>\n      <td>Yes</td>\n      <td>No</td>\n      <td>Private</td>\n      <td>0</td>\n      <td>Always</td>\n      <td>Yes</td>\n      <td>No</td>\n      <td>Yes</td>\n      <td>Yes</td>\n      <td>AA</td>\n    </tr>\n    <tr>\n      <th>2</th>\n      <td>21</td>\n      <td>Male</td>\n      <td>State</td>\n      <td>50%</td>\n      <td>No</td>\n      <td>No</td>\n      <td>Private</td>\n      <td>2</td>\n      <td>Never</td>\n      <td>No</td>\n      <td>No</td>\n      <td>No</td>\n      <td>Yes</td>\n      <td>AA</td>\n    </tr>\n    <tr>\n      <th>3</th>\n      <td>18</td>\n      <td>Female</td>\n      <td>Private</td>\n      <td>50%</td>\n      <td>Yes</td>\n      <td>No</td>\n      <td>Bus</td>\n      <td>2</td>\n      <td>Always</td>\n      <td>No</td>\n      <td>Yes</td>\n      <td>No</td>\n      <td>No</td>\n      <td>AA</td>\n    </tr>\n    <tr>\n      <th>4</th>\n      <td>22</td>\n      <td>Male</td>\n      <td>Private</td>\n      <td>50%</td>\n      <td>No</td>\n      <td>No</td>\n      <td>Bus</td>\n      <td>12</td>\n      <td>Always</td>\n      <td>Yes</td>\n      <td>No</td>\n      <td>Yes</td>\n      <td>Yes</td>\n      <td>AA</td>\n    </tr>\n    <tr>\n      <th>...</th>\n      <td>...</td>\n      <td>...</td>\n      <td>...</td>\n      <td>...</td>\n      <td>...</td>\n      <td>...</td>\n      <td>...</td>\n      <td>...</td>\n      <td>...</td>\n      <td>...</td>\n      <td>...</td>\n      <td>...</td>\n      <td>...</td>\n      <td>...</td>\n    </tr>\n    <tr>\n      <th>140</th>\n      <td>22</td>\n      <td>Female</td>\n      <td>State</td>\n      <td>50%</td>\n      <td>Yes</td>\n      <td>Yes</td>\n      <td>Private</td>\n      <td>0</td>\n      <td>Always</td>\n      <td>No</td>\n      <td>Yes</td>\n      <td>No</td>\n      <td>Yes</td>\n      <td>CC</td>\n    </tr>\n    <tr>\n      <th>141</th>\n      <td>18</td>\n      <td>Female</td>\n      <td>State</td>\n      <td>75%</td>\n      <td>No</td>\n      <td>No</td>\n      <td>Private</td>\n      <td>0</td>\n      <td>Never</td>\n      <td>No</td>\n      <td>Yes</td>\n      <td>Yes</td>\n      <td>No</td>\n      <td>CC</td>\n    </tr>\n    <tr>\n      <th>142</th>\n      <td>18</td>\n      <td>Female</td>\n      <td>Private</td>\n      <td>75%</td>\n      <td>No</td>\n      <td>No</td>\n      <td>Private</td>\n      <td>0</td>\n      <td>Always</td>\n      <td>Yes</td>\n      <td>No</td>\n      <td>No</td>\n      <td>No</td>\n      <td>AA</td>\n    </tr>\n    <tr>\n      <th>143</th>\n      <td>22</td>\n      <td>Female</td>\n      <td>State</td>\n      <td>75%</td>\n      <td>Yes</td>\n      <td>Yes</td>\n      <td>Bus</td>\n      <td>12</td>\n      <td>Sometimes</td>\n      <td>No</td>\n      <td>Yes</td>\n      <td>No</td>\n      <td>Yes</td>\n      <td>CB</td>\n    </tr>\n    <tr>\n      <th>144</th>\n      <td>18</td>\n      <td>Female</td>\n      <td>Private</td>\n      <td>100%</td>\n      <td>No</td>\n      <td>No</td>\n      <td>Private</td>\n      <td>12</td>\n      <td>Always</td>\n      <td>Yes</td>\n      <td>No</td>\n      <td>Yes</td>\n      <td>No</td>\n      <td>BB</td>\n    </tr>\n  </tbody>\n</table>\n<p>145 rows × 14 columns</p>\n</div>"
     },
     "execution_count": 2,
     "metadata": {},
     "output_type": "execute_result"
    }
   ],
   "source": [
    "data = pd.read_csv(\"student.csv\")\n",
    "data = data.drop(['Unnamed: 0', 'Id'],axis=1)\n",
    "data"
   ],
   "metadata": {
    "collapsed": false,
    "ExecuteTime": {
     "end_time": "2023-12-10T19:05:34.294284500Z",
     "start_time": "2023-12-10T19:05:34.145286100Z"
    }
   },
   "id": "ae7bcbc317167c1f"
  },
  {
   "cell_type": "code",
   "execution_count": 3,
   "outputs": [],
   "source": [
    "\n",
    "X = data.drop('Grade',axis=1)\n",
    "y = data['Grade']"
   ],
   "metadata": {
    "collapsed": false,
    "ExecuteTime": {
     "end_time": "2023-12-10T19:05:34.297286100Z",
     "start_time": "2023-12-10T19:05:34.224290400Z"
    }
   },
   "id": "cb0304f0be1c65de"
  },
  {
   "cell_type": "code",
   "execution_count": 3,
   "outputs": [],
   "source": [],
   "metadata": {
    "collapsed": false,
    "ExecuteTime": {
     "end_time": "2023-12-10T19:05:34.299287Z",
     "start_time": "2023-12-10T19:05:34.240288300Z"
    }
   },
   "id": "4dffe62d16e67643"
  },
  {
   "cell_type": "code",
   "execution_count": 4,
   "outputs": [],
   "source": [
    "X_train, X_test, y_train, y_test = train_test_split(X,y, stratify=y, train_size=0.7)\n"
   ],
   "metadata": {
    "collapsed": false,
    "ExecuteTime": {
     "end_time": "2023-12-10T19:05:34.303286100Z",
     "start_time": "2023-12-10T19:05:34.263288800Z"
    }
   },
   "id": "ca3cbd7cea93b653"
  },
  {
   "cell_type": "code",
   "execution_count": 5,
   "outputs": [
    {
     "name": "stdout",
     "output_type": "stream",
     "text": [
      "<class 'pandas.core.frame.DataFrame'>\n",
      "RangeIndex: 145 entries, 0 to 144\n",
      "Data columns (total 14 columns):\n",
      " #   Column              Non-Null Count  Dtype \n",
      "---  ------              --------------  ----- \n",
      " 0   Student_Age         145 non-null    int64 \n",
      " 1   Sex                 145 non-null    object\n",
      " 2   High_School_Type    145 non-null    object\n",
      " 3   Scholarship         144 non-null    object\n",
      " 4   Additional_Work     145 non-null    object\n",
      " 5   Sports_activity     145 non-null    object\n",
      " 6   Transportation      145 non-null    object\n",
      " 7   Weekly_Study_Hours  145 non-null    int64 \n",
      " 8   Attendance          145 non-null    object\n",
      " 9   Reading             145 non-null    object\n",
      " 10  Notes               145 non-null    object\n",
      " 11  Listening_in_Class  145 non-null    object\n",
      " 12  Project_work        145 non-null    object\n",
      " 13  Grade               145 non-null    object\n",
      "dtypes: int64(2), object(12)\n",
      "memory usage: 16.0+ KB\n"
     ]
    }
   ],
   "source": [
    "data.info()"
   ],
   "metadata": {
    "collapsed": false,
    "ExecuteTime": {
     "end_time": "2023-12-10T19:05:34.559285400Z",
     "start_time": "2023-12-10T19:05:34.287288500Z"
    }
   },
   "id": "d36887bc6dcc7a72"
  },
  {
   "cell_type": "code",
   "execution_count": 6,
   "outputs": [
    {
     "data": {
      "text/plain": "    Student_Age     Sex High_School_Type Scholarship Additional_Work  \\\n14           26    Male            State         75%             Yes   \n87           20    Male            State         50%              No   \n1            20    Male            Other         50%             Yes   \n91           20    Male            State        100%             Yes   \n92           18    Male            State         50%              No   \n..          ...     ...              ...         ...             ...   \n31           25    Male            State         50%             Yes   \n52           22  Female            State         50%             Yes   \n77           18    Male          Private         25%              No   \n50           21    Male            State         50%              No   \n10           18  Female          Private         50%              No   \n\n   Sports_activity Transportation  Weekly_Study_Hours Attendance Reading  \\\n14             Yes        Private                  12      Never      No   \n87             Yes        Private                   2     Always     Yes   \n1               No        Private                   0     Always     Yes   \n91             Yes            Bus                   0     Always      No   \n92              No        Private                   0     Always     Yes   \n..             ...            ...                 ...        ...     ...   \n31              No        Private                   0     Always      No   \n52              No        Private                   2     Always     Yes   \n77              No            Bus                   2  Sometimes      No   \n50              No            Bus                   2  Sometimes     Yes   \n10              No        Private                  12  Sometimes      No   \n\n   Notes Listening_in_Class Project_work  \n14    No                Yes          Yes  \n87    No                 No          Yes  \n1     No                Yes          Yes  \n91   Yes                Yes           No  \n92    No                 No           No  \n..   ...                ...          ...  \n31   Yes                 No           No  \n52   Yes                Yes           No  \n77     6                 No          Yes  \n50   Yes                Yes          Yes  \n10    No                 No          Yes  \n\n[101 rows x 13 columns]",
      "text/html": "<div>\n<style scoped>\n    .dataframe tbody tr th:only-of-type {\n        vertical-align: middle;\n    }\n\n    .dataframe tbody tr th {\n        vertical-align: top;\n    }\n\n    .dataframe thead th {\n        text-align: right;\n    }\n</style>\n<table border=\"1\" class=\"dataframe\">\n  <thead>\n    <tr style=\"text-align: right;\">\n      <th></th>\n      <th>Student_Age</th>\n      <th>Sex</th>\n      <th>High_School_Type</th>\n      <th>Scholarship</th>\n      <th>Additional_Work</th>\n      <th>Sports_activity</th>\n      <th>Transportation</th>\n      <th>Weekly_Study_Hours</th>\n      <th>Attendance</th>\n      <th>Reading</th>\n      <th>Notes</th>\n      <th>Listening_in_Class</th>\n      <th>Project_work</th>\n    </tr>\n  </thead>\n  <tbody>\n    <tr>\n      <th>14</th>\n      <td>26</td>\n      <td>Male</td>\n      <td>State</td>\n      <td>75%</td>\n      <td>Yes</td>\n      <td>Yes</td>\n      <td>Private</td>\n      <td>12</td>\n      <td>Never</td>\n      <td>No</td>\n      <td>No</td>\n      <td>Yes</td>\n      <td>Yes</td>\n    </tr>\n    <tr>\n      <th>87</th>\n      <td>20</td>\n      <td>Male</td>\n      <td>State</td>\n      <td>50%</td>\n      <td>No</td>\n      <td>Yes</td>\n      <td>Private</td>\n      <td>2</td>\n      <td>Always</td>\n      <td>Yes</td>\n      <td>No</td>\n      <td>No</td>\n      <td>Yes</td>\n    </tr>\n    <tr>\n      <th>1</th>\n      <td>20</td>\n      <td>Male</td>\n      <td>Other</td>\n      <td>50%</td>\n      <td>Yes</td>\n      <td>No</td>\n      <td>Private</td>\n      <td>0</td>\n      <td>Always</td>\n      <td>Yes</td>\n      <td>No</td>\n      <td>Yes</td>\n      <td>Yes</td>\n    </tr>\n    <tr>\n      <th>91</th>\n      <td>20</td>\n      <td>Male</td>\n      <td>State</td>\n      <td>100%</td>\n      <td>Yes</td>\n      <td>Yes</td>\n      <td>Bus</td>\n      <td>0</td>\n      <td>Always</td>\n      <td>No</td>\n      <td>Yes</td>\n      <td>Yes</td>\n      <td>No</td>\n    </tr>\n    <tr>\n      <th>92</th>\n      <td>18</td>\n      <td>Male</td>\n      <td>State</td>\n      <td>50%</td>\n      <td>No</td>\n      <td>No</td>\n      <td>Private</td>\n      <td>0</td>\n      <td>Always</td>\n      <td>Yes</td>\n      <td>No</td>\n      <td>No</td>\n      <td>No</td>\n    </tr>\n    <tr>\n      <th>...</th>\n      <td>...</td>\n      <td>...</td>\n      <td>...</td>\n      <td>...</td>\n      <td>...</td>\n      <td>...</td>\n      <td>...</td>\n      <td>...</td>\n      <td>...</td>\n      <td>...</td>\n      <td>...</td>\n      <td>...</td>\n      <td>...</td>\n    </tr>\n    <tr>\n      <th>31</th>\n      <td>25</td>\n      <td>Male</td>\n      <td>State</td>\n      <td>50%</td>\n      <td>Yes</td>\n      <td>No</td>\n      <td>Private</td>\n      <td>0</td>\n      <td>Always</td>\n      <td>No</td>\n      <td>Yes</td>\n      <td>No</td>\n      <td>No</td>\n    </tr>\n    <tr>\n      <th>52</th>\n      <td>22</td>\n      <td>Female</td>\n      <td>State</td>\n      <td>50%</td>\n      <td>Yes</td>\n      <td>No</td>\n      <td>Private</td>\n      <td>2</td>\n      <td>Always</td>\n      <td>Yes</td>\n      <td>Yes</td>\n      <td>Yes</td>\n      <td>No</td>\n    </tr>\n    <tr>\n      <th>77</th>\n      <td>18</td>\n      <td>Male</td>\n      <td>Private</td>\n      <td>25%</td>\n      <td>No</td>\n      <td>No</td>\n      <td>Bus</td>\n      <td>2</td>\n      <td>Sometimes</td>\n      <td>No</td>\n      <td>6</td>\n      <td>No</td>\n      <td>Yes</td>\n    </tr>\n    <tr>\n      <th>50</th>\n      <td>21</td>\n      <td>Male</td>\n      <td>State</td>\n      <td>50%</td>\n      <td>No</td>\n      <td>No</td>\n      <td>Bus</td>\n      <td>2</td>\n      <td>Sometimes</td>\n      <td>Yes</td>\n      <td>Yes</td>\n      <td>Yes</td>\n      <td>Yes</td>\n    </tr>\n    <tr>\n      <th>10</th>\n      <td>18</td>\n      <td>Female</td>\n      <td>Private</td>\n      <td>50%</td>\n      <td>No</td>\n      <td>No</td>\n      <td>Private</td>\n      <td>12</td>\n      <td>Sometimes</td>\n      <td>No</td>\n      <td>No</td>\n      <td>No</td>\n      <td>Yes</td>\n    </tr>\n  </tbody>\n</table>\n<p>101 rows × 13 columns</p>\n</div>"
     },
     "execution_count": 6,
     "metadata": {},
     "output_type": "execute_result"
    }
   ],
   "source": [
    "X_train"
   ],
   "metadata": {
    "collapsed": false,
    "ExecuteTime": {
     "end_time": "2023-12-10T19:05:34.564285900Z",
     "start_time": "2023-12-10T19:05:34.320287500Z"
    }
   },
   "id": "53e3aafaa6581d03"
  },
  {
   "cell_type": "code",
   "execution_count": 7,
   "outputs": [
    {
     "data": {
      "text/plain": "array([21, 20, 18, 22, 19, 26, 25, 24, 23], dtype=int64)"
     },
     "execution_count": 7,
     "metadata": {},
     "output_type": "execute_result"
    }
   ],
   "source": [
    "data['Student_Age'].unique()"
   ],
   "metadata": {
    "collapsed": false,
    "ExecuteTime": {
     "end_time": "2023-12-10T19:05:34.684286700Z",
     "start_time": "2023-12-10T19:05:34.366288100Z"
    }
   },
   "id": "73ed1a03550eb4ae"
  },
  {
   "cell_type": "code",
   "execution_count": 20,
   "outputs": [
    {
     "data": {
      "text/plain": "['label_enc.joblib']"
     },
     "execution_count": 20,
     "metadata": {},
     "output_type": "execute_result"
    }
   ],
   "source": [
    "categorical_features = [\"Sex\",\"High_School_Type\",\"Scholarship\",\n",
    "                        \"Additional_Work\",\"Sports_activity\",\"Transportation\",\"Attendance\",\n",
    "                        \"Reading\",\"Notes\",\"Listening_in_Class\",\"Project_work\"]\n",
    "\n",
    "numeric_features = [i for i in X_train.columns if i not in categorical_features]\n",
    "\n",
    "# Пайплайн для числовых признаков\n",
    "pipe_num = Pipeline([\n",
    "    ('imputer', SimpleImputer(strategy='median')),\n",
    "    ('power_tr', PowerTransformer()),\n",
    "    ('scaler', StandardScaler()) ])\n",
    "\n",
    "pipe_cat = Pipeline([\n",
    "    ('imputer', SimpleImputer(strategy= 'constant', fill_value='unknown' )),\n",
    "    ('encoding', OneHotEncoder(sparse_output=False,handle_unknown='ignore'))\n",
    "])\n",
    "\n",
    "ct = ColumnTransformer([\n",
    "    ('pipe_num', pipe_num, numeric_features),\n",
    "    ('pipe_cat', pipe_cat, categorical_features),\n",
    "])\n",
    "\n",
    "# Полный пайплайн\n",
    "pipe = Pipeline([\n",
    "    ('column_transformer', ct),\n",
    "    ('model', xgb.XGBRegressor()),  # It denotes the fraction of observations to be randomly samples for each tree. \n",
    "])\n",
    "\n",
    "# здесь добавляем энкодер для целевых признаков, потому что randomsearch не работает без этого преобразования\n",
    "label_encoder = LabelEncoder()\n",
    "y_train_encoded = label_encoder.fit_transform(y_train)\n",
    "joblib.dump(label_encoder,'label_enc.joblib')\n",
    "\n"
   ],
   "metadata": {
    "collapsed": false,
    "ExecuteTime": {
     "end_time": "2023-12-10T19:12:18.897926Z",
     "start_time": "2023-12-10T19:12:18.854927100Z"
    }
   },
   "id": "ba581270253e9f02"
  },
  {
   "cell_type": "code",
   "execution_count": 8,
   "outputs": [],
   "source": [],
   "metadata": {
    "collapsed": false,
    "ExecuteTime": {
     "end_time": "2023-12-10T19:05:34.748286500Z",
     "start_time": "2023-12-10T19:05:34.454287200Z"
    }
   },
   "id": "45ffb66a2d4384fc"
  },
  {
   "cell_type": "markdown",
   "source": [
    "#### 1. eta\n",
    "\n",
    "eta [default=0.3, alias: learning_rate]\n",
    "\n",
    "It is analogous to learning rate in GBM.\n",
    "It is the step size shrinkage used in update to prevent overfitting.\n",
    "After each boosting step, we can directly get the weights of new features, and eta shrinks the feature weights to make the boosting process more conservative.\n",
    "It makes the model more robust by shrinking the weights on each step.\n",
    "range : [0,1]\n",
    "Typical final values : 0.01-0.2.\n",
    "\n",
    "#### 2.  gamma\n",
    "\n",
    "gamma [default=0, alias: min_split_loss]\n",
    "\n",
    "A node is split only when the resulting split gives a positive reduction in the loss function.\n",
    "Gamma specifies the minimum loss reduction required to make a split.\n",
    "It makes the algorithm conservative. The values can vary depending on the loss function and should be tuned.\n",
    "The larger gamma is, the more conservative the algorithm will be.\n",
    "Range: [0,∞]\n",
    "\n",
    "\n",
    "\n",
    "#### 3. max_depth\n",
    "\n",
    "max_depth [default=6]\n",
    "\n",
    "The maximum depth of a tree, same as GBM.\n",
    "It is used to control over-fitting as higher depth will allow model to learn relations very specific to a particular sample.\n",
    "Increasing this value will make the model more complex and more likely to overfit.\n",
    "The value 0 is only accepted in lossguided growing policy when tree_method is set as hist and it indicates no limit on depth.\n",
    "We should be careful when setting large value of max_depth because XGBoost aggressively consumes memory when training a deep tree.\n",
    "range: [0,∞] (0 is only accepted in lossguided growing policy when tree_method is set as hist.\n",
    "Should be tuned using CV.\n",
    "Typical values: 3-10\n",
    "\n",
    "#### 4. min_child_weight\n",
    "\n",
    "min_child_weight [default=1]\n",
    "\n",
    "It defines the minimum sum of weights of all observations required in a child.\n",
    "This is similar to min_child_leaf in GBM but not exactly. This refers to min “sum of weights” of observations while GBM has min “number of observations”.\n",
    "It is used to control over-fitting.\n",
    "Higher values prevent a model from learning relations which might be highly specific to the particular sample selected for a tree.\n",
    "    Too high values can lead to under-fitting.\n",
    "Hence, it should be tuned using CV.\n",
    "The larger min_child_weight is, the more conservative the algorithm will be.\n",
    "range: [0,∞]\n",
    "\n",
    "#### 5. max_delta_step\n",
    "\n",
    "max_delta_step [default=0]\n",
    "\n",
    "In maximum delta step we allow each tree’s weight estimation to be.\n",
    "If the value is set to 0, it means there is no constraint.\n",
    "If it is set to a positive value, it can help making the update step more conservative.\n",
    "Usually this parameter is not needed, but it might help in logistic regression when class is extremely imbalanced.\n",
    "Set it to value of 1-10 might help control the update.\n",
    "range: [0,∞]\n",
    "\n",
    "#### 6. subsample\n",
    "\n",
    "subsample [default=1]\n",
    "\n",
    "It denotes the fraction of observations to be randomly samples for each tree.\n",
    "    Subsample ratio of the training instances.\n",
    "Setting it to 0.5 means that XGBoost would randomly sample half of the training data prior to growing trees. - This will prevent overfitting.\n",
    "Subsampling will occur once in every boosting iteration.\n",
    "Lower values make the algorithm more conservative and prevents overfitting but too small values might lead to under-fitting.\n",
    "Typical values: 0.5-1\n",
    "range: (0,1]\n",
    "\n",
    "\n",
    "#### 7. colsample_bytree, colsample_bylevel, colsample_bynode\n",
    "Table of Contents\n",
    "\n",
    "colsample_bytree, colsample_bylevel, colsample_bynode [default=1]\n",
    "\n",
    "This is a family of parameters for subsampling of columns.\n",
    "\n",
    "All colsample_by parameters have a range of (0, 1], the default value of 1, and specify the fraction of columns to be subsampled.\n",
    "\n",
    "colsample_bytree is the subsample ratio of columns when constructing each tree. Subsampling occurs once for every tree constructed.\n",
    "\n",
    "colsample_bylevel is the subsample ratio of columns for each level. Subsampling occurs once for every new depth level reached in a tree. Columns are subsampled from the set of columns chosen for the current tree.\n",
    "\n",
    "colsample_bynode is the subsample ratio of columns for each node (split). Subsampling occurs once every time a new split is evaluated. Columns are subsampled from the set of columns chosen for the current level.\n",
    "\n",
    "colsample_by* parameters work cumulatively. For instance, the combination {'colsample_bytree':0.5, 'colsample_bylevel':0.5, 'colsample_bynode':0.5} with 64 features will leave 8 features to choose from at each split.\n",
    "\n",
    "#### 8. lambda\n",
    "\n",
    "        lambda [default=1, alias: reg_lambda]\n",
    "\n",
    "L2 regularization term on weights (analogous to Ridge regression).\n",
    "This is used to handle the regularization part of XGBoost.\n",
    "Increasing this value will make model more conservative.\n",
    "\n",
    "\n",
    "#### 9. alpha\n",
    "\n",
    "alpha [default=0, alias: reg_alpha]\n",
    "\n",
    "L1 regularization term on weights (analogous to Lasso regression).\n",
    "It can be used in case of very high dimensionality so that the algorithm runs faster when implemented.\n",
    "Increasing this value will make model more conservative.\n",
    "\n",
    "\n",
    "#### 10. tree_method\n",
    "\n",
    "tree_method string [default= auto]\n",
    "\n",
    "The tree construction algorithm used in XGBoost.\n",
    "\n",
    "XGBoost supports approx, hist and gpu_hist for distributed training. Experimental support for external memory is available for approx and gpu_hist.\n",
    "\n",
    "Choices: auto, exact, approx, hist, gpu_hist\n",
    "\n",
    "auto: Use heuristic to choose the fastest method.\n",
    "\n",
    "For small to medium dataset, exact greedy (exact) will be used.\n",
    "\n",
    "For very large dataset, approximate algorithm (approx) will be chosen.\n",
    "\n",
    "Because old behavior is always use exact greedy in single machine, user will get a message when approximate algorithm is chosen to notify this choice.\n",
    "\n",
    "exact: Exact greedy algorithm.\n",
    "\n",
    "approx: Approximate greedy algorithm using quantile sketch and gradient histogram.\n",
    "\n",
    "hist: Fast histogram optimized approximate greedy algorithm. It uses some performance improvements such as bins caching.\n",
    "\n",
    "gpu_hist: GPU implementation of hist algorithm.\n",
    "\n",
    "#### 11. scale_pos_weight\n",
    "\n",
    "scale_pos_weight [default=1]\n",
    "\n",
    "It controls the balance of positive and negative weights,\n",
    "It is useful for imbalanced classes.\n",
    "    A value greater than 0 should be used in case of high class imbalance as it helps in faster convergence.\n",
    "A typical value to consider: sum(negative instances) / sum(positive instances).\n",
    "\n",
    "\n",
    "#### 12. max_leaves\n",
    "\n",
    "max_leaves [default=0]\n",
    "\n",
    "Maximum number of nodes to be added.\n",
    "Only relevant when grow_policy=lossguide is set.\n",
    "There are other hyperparameters like sketch_eps,updater, refresh_leaf, process_type, grow_policy, max_bin, predictor and num_parallel_tree.\n",
    "\n",
    "(source: https://www.kaggle.com/code/prashant111/a-guide-on-xgboost-hyperparameters-tuning#2.-XGBoost-hyperparameters- )\n"
   ],
   "metadata": {
    "collapsed": false
   },
   "id": "f0a35ba88830c6ed"
  },
  {
   "cell_type": "code",
   "execution_count": 9,
   "outputs": [],
   "source": [
    "params = { 'model__eta': (0.01, 0.2),\n",
    "    'model__gamma': (0, 5),\n",
    "    'model__max_depth': (3, 10),\n",
    "    'model__min_child_weight': (1, 10),\n",
    "    'model__max_delta_step': (0, 10),\n",
    "    'model__subsample': (0.1,1),\n",
    "    'model__colsample_bytree': (0.5, 1),\n",
    "    'model__colsample_bylevel': (0.5, 1),\n",
    "    'model__colsample_bynode': (0.5, 1),\n",
    "    'model__lambda': (0, 5),\n",
    "    'model__alpha': (0, 5),\n",
    "    'model__scale_pos_weight': (1, 10),\n",
    "    'model__max_leaves': (0, 100)\n",
    "           }"
   ],
   "metadata": {
    "collapsed": false,
    "ExecuteTime": {
     "end_time": "2023-12-10T19:05:34.749287900Z",
     "start_time": "2023-12-10T19:05:34.454287200Z"
    }
   },
   "id": "f5b1de39a8277fbc"
  },
  {
   "cell_type": "code",
   "execution_count": 10,
   "outputs": [
    {
     "data": {
      "text/plain": "RandomizedSearchCV(cv=5,\n                   estimator=Pipeline(steps=[('column_transformer',\n                                              ColumnTransformer(transformers=[('pipe_num',\n                                                                               Pipeline(steps=[('imputer',\n                                                                                                SimpleImputer(strategy='median')),\n                                                                                               ('power_tr',\n                                                                                                PowerTransformer()),\n                                                                                               ('scaler',\n                                                                                                StandardScaler())]),\n                                                                               ['Student_Age',\n                                                                                'Weekly_Study_Hours']),\n                                                                              ('pipe_cat',\n                                                                               Pipeline(steps=[('imputer',\n                                                                                                SimpleImputer(fill_value='unknown'...\n                   param_distributions={'model__alpha': (0, 5),\n                                        'model__colsample_bylevel': (0.5, 1),\n                                        'model__colsample_bynode': (0.5, 1),\n                                        'model__colsample_bytree': (0.5, 1),\n                                        'model__eta': (0.01, 0.2),\n                                        'model__gamma': (0, 5),\n                                        'model__lambda': (0, 5),\n                                        'model__max_delta_step': (0, 10),\n                                        'model__max_depth': (3, 10),\n                                        'model__max_leaves': (0, 100),\n                                        'model__min_child_weight': (1, 10),\n                                        'model__scale_pos_weight': (1, 10),\n                                        'model__subsample': (0.1, 1)})",
      "text/html": "<style>#sk-container-id-1 {color: black;}#sk-container-id-1 pre{padding: 0;}#sk-container-id-1 div.sk-toggleable {background-color: white;}#sk-container-id-1 label.sk-toggleable__label {cursor: pointer;display: block;width: 100%;margin-bottom: 0;padding: 0.3em;box-sizing: border-box;text-align: center;}#sk-container-id-1 label.sk-toggleable__label-arrow:before {content: \"▸\";float: left;margin-right: 0.25em;color: #696969;}#sk-container-id-1 label.sk-toggleable__label-arrow:hover:before {color: black;}#sk-container-id-1 div.sk-estimator:hover label.sk-toggleable__label-arrow:before {color: black;}#sk-container-id-1 div.sk-toggleable__content {max-height: 0;max-width: 0;overflow: hidden;text-align: left;background-color: #f0f8ff;}#sk-container-id-1 div.sk-toggleable__content pre {margin: 0.2em;color: black;border-radius: 0.25em;background-color: #f0f8ff;}#sk-container-id-1 input.sk-toggleable__control:checked~div.sk-toggleable__content {max-height: 200px;max-width: 100%;overflow: auto;}#sk-container-id-1 input.sk-toggleable__control:checked~label.sk-toggleable__label-arrow:before {content: \"▾\";}#sk-container-id-1 div.sk-estimator input.sk-toggleable__control:checked~label.sk-toggleable__label {background-color: #d4ebff;}#sk-container-id-1 div.sk-label input.sk-toggleable__control:checked~label.sk-toggleable__label {background-color: #d4ebff;}#sk-container-id-1 input.sk-hidden--visually {border: 0;clip: rect(1px 1px 1px 1px);clip: rect(1px, 1px, 1px, 1px);height: 1px;margin: -1px;overflow: hidden;padding: 0;position: absolute;width: 1px;}#sk-container-id-1 div.sk-estimator {font-family: monospace;background-color: #f0f8ff;border: 1px dotted black;border-radius: 0.25em;box-sizing: border-box;margin-bottom: 0.5em;}#sk-container-id-1 div.sk-estimator:hover {background-color: #d4ebff;}#sk-container-id-1 div.sk-parallel-item::after {content: \"\";width: 100%;border-bottom: 1px solid gray;flex-grow: 1;}#sk-container-id-1 div.sk-label:hover label.sk-toggleable__label {background-color: #d4ebff;}#sk-container-id-1 div.sk-serial::before {content: \"\";position: absolute;border-left: 1px solid gray;box-sizing: border-box;top: 0;bottom: 0;left: 50%;z-index: 0;}#sk-container-id-1 div.sk-serial {display: flex;flex-direction: column;align-items: center;background-color: white;padding-right: 0.2em;padding-left: 0.2em;position: relative;}#sk-container-id-1 div.sk-item {position: relative;z-index: 1;}#sk-container-id-1 div.sk-parallel {display: flex;align-items: stretch;justify-content: center;background-color: white;position: relative;}#sk-container-id-1 div.sk-item::before, #sk-container-id-1 div.sk-parallel-item::before {content: \"\";position: absolute;border-left: 1px solid gray;box-sizing: border-box;top: 0;bottom: 0;left: 50%;z-index: -1;}#sk-container-id-1 div.sk-parallel-item {display: flex;flex-direction: column;z-index: 1;position: relative;background-color: white;}#sk-container-id-1 div.sk-parallel-item:first-child::after {align-self: flex-end;width: 50%;}#sk-container-id-1 div.sk-parallel-item:last-child::after {align-self: flex-start;width: 50%;}#sk-container-id-1 div.sk-parallel-item:only-child::after {width: 0;}#sk-container-id-1 div.sk-dashed-wrapped {border: 1px dashed gray;margin: 0 0.4em 0.5em 0.4em;box-sizing: border-box;padding-bottom: 0.4em;background-color: white;}#sk-container-id-1 div.sk-label label {font-family: monospace;font-weight: bold;display: inline-block;line-height: 1.2em;}#sk-container-id-1 div.sk-label-container {text-align: center;}#sk-container-id-1 div.sk-container {/* jupyter's `normalize.less` sets `[hidden] { display: none; }` but bootstrap.min.css set `[hidden] { display: none !important; }` so we also need the `!important` here to be able to override the default hidden behavior on the sphinx rendered scikit-learn.org. See: https://github.com/scikit-learn/scikit-learn/issues/21755 */display: inline-block !important;position: relative;}#sk-container-id-1 div.sk-text-repr-fallback {display: none;}</style><div id=\"sk-container-id-1\" class=\"sk-top-container\"><div class=\"sk-text-repr-fallback\"><pre>RandomizedSearchCV(cv=5,\n                   estimator=Pipeline(steps=[(&#x27;column_transformer&#x27;,\n                                              ColumnTransformer(transformers=[(&#x27;pipe_num&#x27;,\n                                                                               Pipeline(steps=[(&#x27;imputer&#x27;,\n                                                                                                SimpleImputer(strategy=&#x27;median&#x27;)),\n                                                                                               (&#x27;power_tr&#x27;,\n                                                                                                PowerTransformer()),\n                                                                                               (&#x27;scaler&#x27;,\n                                                                                                StandardScaler())]),\n                                                                               [&#x27;Student_Age&#x27;,\n                                                                                &#x27;Weekly_Study_Hours&#x27;]),\n                                                                              (&#x27;pipe_cat&#x27;,\n                                                                               Pipeline(steps=[(&#x27;imputer&#x27;,\n                                                                                                SimpleImputer(fill_value=&#x27;unknown&#x27;...\n                   param_distributions={&#x27;model__alpha&#x27;: (0, 5),\n                                        &#x27;model__colsample_bylevel&#x27;: (0.5, 1),\n                                        &#x27;model__colsample_bynode&#x27;: (0.5, 1),\n                                        &#x27;model__colsample_bytree&#x27;: (0.5, 1),\n                                        &#x27;model__eta&#x27;: (0.01, 0.2),\n                                        &#x27;model__gamma&#x27;: (0, 5),\n                                        &#x27;model__lambda&#x27;: (0, 5),\n                                        &#x27;model__max_delta_step&#x27;: (0, 10),\n                                        &#x27;model__max_depth&#x27;: (3, 10),\n                                        &#x27;model__max_leaves&#x27;: (0, 100),\n                                        &#x27;model__min_child_weight&#x27;: (1, 10),\n                                        &#x27;model__scale_pos_weight&#x27;: (1, 10),\n                                        &#x27;model__subsample&#x27;: (0.1, 1)})</pre><b>In a Jupyter environment, please rerun this cell to show the HTML representation or trust the notebook. <br />On GitHub, the HTML representation is unable to render, please try loading this page with nbviewer.org.</b></div><div class=\"sk-container\" hidden><div class=\"sk-item sk-dashed-wrapped\"><div class=\"sk-label-container\"><div class=\"sk-label sk-toggleable\"><input class=\"sk-toggleable__control sk-hidden--visually\" id=\"sk-estimator-id-1\" type=\"checkbox\" ><label for=\"sk-estimator-id-1\" class=\"sk-toggleable__label sk-toggleable__label-arrow\">RandomizedSearchCV</label><div class=\"sk-toggleable__content\"><pre>RandomizedSearchCV(cv=5,\n                   estimator=Pipeline(steps=[(&#x27;column_transformer&#x27;,\n                                              ColumnTransformer(transformers=[(&#x27;pipe_num&#x27;,\n                                                                               Pipeline(steps=[(&#x27;imputer&#x27;,\n                                                                                                SimpleImputer(strategy=&#x27;median&#x27;)),\n                                                                                               (&#x27;power_tr&#x27;,\n                                                                                                PowerTransformer()),\n                                                                                               (&#x27;scaler&#x27;,\n                                                                                                StandardScaler())]),\n                                                                               [&#x27;Student_Age&#x27;,\n                                                                                &#x27;Weekly_Study_Hours&#x27;]),\n                                                                              (&#x27;pipe_cat&#x27;,\n                                                                               Pipeline(steps=[(&#x27;imputer&#x27;,\n                                                                                                SimpleImputer(fill_value=&#x27;unknown&#x27;...\n                   param_distributions={&#x27;model__alpha&#x27;: (0, 5),\n                                        &#x27;model__colsample_bylevel&#x27;: (0.5, 1),\n                                        &#x27;model__colsample_bynode&#x27;: (0.5, 1),\n                                        &#x27;model__colsample_bytree&#x27;: (0.5, 1),\n                                        &#x27;model__eta&#x27;: (0.01, 0.2),\n                                        &#x27;model__gamma&#x27;: (0, 5),\n                                        &#x27;model__lambda&#x27;: (0, 5),\n                                        &#x27;model__max_delta_step&#x27;: (0, 10),\n                                        &#x27;model__max_depth&#x27;: (3, 10),\n                                        &#x27;model__max_leaves&#x27;: (0, 100),\n                                        &#x27;model__min_child_weight&#x27;: (1, 10),\n                                        &#x27;model__scale_pos_weight&#x27;: (1, 10),\n                                        &#x27;model__subsample&#x27;: (0.1, 1)})</pre></div></div></div><div class=\"sk-parallel\"><div class=\"sk-parallel-item\"><div class=\"sk-item\"><div class=\"sk-label-container\"><div class=\"sk-label sk-toggleable\"><input class=\"sk-toggleable__control sk-hidden--visually\" id=\"sk-estimator-id-2\" type=\"checkbox\" ><label for=\"sk-estimator-id-2\" class=\"sk-toggleable__label sk-toggleable__label-arrow\">estimator: Pipeline</label><div class=\"sk-toggleable__content\"><pre>Pipeline(steps=[(&#x27;column_transformer&#x27;,\n                 ColumnTransformer(transformers=[(&#x27;pipe_num&#x27;,\n                                                  Pipeline(steps=[(&#x27;imputer&#x27;,\n                                                                   SimpleImputer(strategy=&#x27;median&#x27;)),\n                                                                  (&#x27;power_tr&#x27;,\n                                                                   PowerTransformer()),\n                                                                  (&#x27;scaler&#x27;,\n                                                                   StandardScaler())]),\n                                                  [&#x27;Student_Age&#x27;,\n                                                   &#x27;Weekly_Study_Hours&#x27;]),\n                                                 (&#x27;pipe_cat&#x27;,\n                                                  Pipeline(steps=[(&#x27;imputer&#x27;,\n                                                                   SimpleImputer(fill_value=&#x27;unknown&#x27;,\n                                                                                 strategy=&#x27;constant&#x27;)),\n                                                                  (&#x27;encoding&#x27;...\n                              feature_types=None, gamma=None, gpu_id=None,\n                              grow_policy=None, importance_type=None,\n                              interaction_constraints=None, learning_rate=None,\n                              max_bin=None, max_cat_threshold=None,\n                              max_cat_to_onehot=None, max_delta_step=None,\n                              max_depth=None, max_leaves=None,\n                              min_child_weight=None, missing=nan,\n                              monotone_constraints=None, n_estimators=100,\n                              n_jobs=None, num_parallel_tree=None,\n                              predictor=None, random_state=None, ...))])</pre></div></div></div><div class=\"sk-serial\"><div class=\"sk-item\"><div class=\"sk-serial\"><div class=\"sk-item sk-dashed-wrapped\"><div class=\"sk-label-container\"><div class=\"sk-label sk-toggleable\"><input class=\"sk-toggleable__control sk-hidden--visually\" id=\"sk-estimator-id-3\" type=\"checkbox\" ><label for=\"sk-estimator-id-3\" class=\"sk-toggleable__label sk-toggleable__label-arrow\">column_transformer: ColumnTransformer</label><div class=\"sk-toggleable__content\"><pre>ColumnTransformer(transformers=[(&#x27;pipe_num&#x27;,\n                                 Pipeline(steps=[(&#x27;imputer&#x27;,\n                                                  SimpleImputer(strategy=&#x27;median&#x27;)),\n                                                 (&#x27;power_tr&#x27;,\n                                                  PowerTransformer()),\n                                                 (&#x27;scaler&#x27;, StandardScaler())]),\n                                 [&#x27;Student_Age&#x27;, &#x27;Weekly_Study_Hours&#x27;]),\n                                (&#x27;pipe_cat&#x27;,\n                                 Pipeline(steps=[(&#x27;imputer&#x27;,\n                                                  SimpleImputer(fill_value=&#x27;unknown&#x27;,\n                                                                strategy=&#x27;constant&#x27;)),\n                                                 (&#x27;encoding&#x27;,\n                                                  OneHotEncoder(handle_unknown=&#x27;ignore&#x27;,\n                                                                sparse_output=False))]),\n                                 [&#x27;Sex&#x27;, &#x27;High_School_Type&#x27;, &#x27;Scholarship&#x27;,\n                                  &#x27;Additional_Work&#x27;, &#x27;Sports_activity&#x27;,\n                                  &#x27;Transportation&#x27;, &#x27;Attendance&#x27;, &#x27;Reading&#x27;,\n                                  &#x27;Notes&#x27;, &#x27;Listening_in_Class&#x27;,\n                                  &#x27;Project_work&#x27;])])</pre></div></div></div><div class=\"sk-parallel\"><div class=\"sk-parallel-item\"><div class=\"sk-item\"><div class=\"sk-label-container\"><div class=\"sk-label sk-toggleable\"><input class=\"sk-toggleable__control sk-hidden--visually\" id=\"sk-estimator-id-4\" type=\"checkbox\" ><label for=\"sk-estimator-id-4\" class=\"sk-toggleable__label sk-toggleable__label-arrow\">pipe_num</label><div class=\"sk-toggleable__content\"><pre>[&#x27;Student_Age&#x27;, &#x27;Weekly_Study_Hours&#x27;]</pre></div></div></div><div class=\"sk-serial\"><div class=\"sk-item\"><div class=\"sk-serial\"><div class=\"sk-item\"><div class=\"sk-estimator sk-toggleable\"><input class=\"sk-toggleable__control sk-hidden--visually\" id=\"sk-estimator-id-5\" type=\"checkbox\" ><label for=\"sk-estimator-id-5\" class=\"sk-toggleable__label sk-toggleable__label-arrow\">SimpleImputer</label><div class=\"sk-toggleable__content\"><pre>SimpleImputer(strategy=&#x27;median&#x27;)</pre></div></div></div><div class=\"sk-item\"><div class=\"sk-estimator sk-toggleable\"><input class=\"sk-toggleable__control sk-hidden--visually\" id=\"sk-estimator-id-6\" type=\"checkbox\" ><label for=\"sk-estimator-id-6\" class=\"sk-toggleable__label sk-toggleable__label-arrow\">PowerTransformer</label><div class=\"sk-toggleable__content\"><pre>PowerTransformer()</pre></div></div></div><div class=\"sk-item\"><div class=\"sk-estimator sk-toggleable\"><input class=\"sk-toggleable__control sk-hidden--visually\" id=\"sk-estimator-id-7\" type=\"checkbox\" ><label for=\"sk-estimator-id-7\" class=\"sk-toggleable__label sk-toggleable__label-arrow\">StandardScaler</label><div class=\"sk-toggleable__content\"><pre>StandardScaler()</pre></div></div></div></div></div></div></div></div><div class=\"sk-parallel-item\"><div class=\"sk-item\"><div class=\"sk-label-container\"><div class=\"sk-label sk-toggleable\"><input class=\"sk-toggleable__control sk-hidden--visually\" id=\"sk-estimator-id-8\" type=\"checkbox\" ><label for=\"sk-estimator-id-8\" class=\"sk-toggleable__label sk-toggleable__label-arrow\">pipe_cat</label><div class=\"sk-toggleable__content\"><pre>[&#x27;Sex&#x27;, &#x27;High_School_Type&#x27;, &#x27;Scholarship&#x27;, &#x27;Additional_Work&#x27;, &#x27;Sports_activity&#x27;, &#x27;Transportation&#x27;, &#x27;Attendance&#x27;, &#x27;Reading&#x27;, &#x27;Notes&#x27;, &#x27;Listening_in_Class&#x27;, &#x27;Project_work&#x27;]</pre></div></div></div><div class=\"sk-serial\"><div class=\"sk-item\"><div class=\"sk-serial\"><div class=\"sk-item\"><div class=\"sk-estimator sk-toggleable\"><input class=\"sk-toggleable__control sk-hidden--visually\" id=\"sk-estimator-id-9\" type=\"checkbox\" ><label for=\"sk-estimator-id-9\" class=\"sk-toggleable__label sk-toggleable__label-arrow\">SimpleImputer</label><div class=\"sk-toggleable__content\"><pre>SimpleImputer(fill_value=&#x27;unknown&#x27;, strategy=&#x27;constant&#x27;)</pre></div></div></div><div class=\"sk-item\"><div class=\"sk-estimator sk-toggleable\"><input class=\"sk-toggleable__control sk-hidden--visually\" id=\"sk-estimator-id-10\" type=\"checkbox\" ><label for=\"sk-estimator-id-10\" class=\"sk-toggleable__label sk-toggleable__label-arrow\">OneHotEncoder</label><div class=\"sk-toggleable__content\"><pre>OneHotEncoder(handle_unknown=&#x27;ignore&#x27;, sparse_output=False)</pre></div></div></div></div></div></div></div></div></div></div><div class=\"sk-item\"><div class=\"sk-estimator sk-toggleable\"><input class=\"sk-toggleable__control sk-hidden--visually\" id=\"sk-estimator-id-11\" type=\"checkbox\" ><label for=\"sk-estimator-id-11\" class=\"sk-toggleable__label sk-toggleable__label-arrow\">XGBRegressor</label><div class=\"sk-toggleable__content\"><pre>XGBRegressor(base_score=None, booster=None, callbacks=None,\n             colsample_bylevel=None, colsample_bynode=None,\n             colsample_bytree=None, early_stopping_rounds=None,\n             enable_categorical=False, eval_metric=None, feature_types=None,\n             gamma=None, gpu_id=None, grow_policy=None, importance_type=None,\n             interaction_constraints=None, learning_rate=None, max_bin=None,\n             max_cat_threshold=None, max_cat_to_onehot=None,\n             max_delta_step=None, max_depth=None, max_leaves=None,\n             min_child_weight=None, missing=nan, monotone_constraints=None,\n             n_estimators=100, n_jobs=None, num_parallel_tree=None,\n             predictor=None, random_state=None, ...)</pre></div></div></div></div></div></div></div></div></div></div></div></div>"
     },
     "execution_count": 10,
     "metadata": {},
     "output_type": "execute_result"
    }
   ],
   "source": [
    "random_search = RandomizedSearchCV(pipe, param_distributions=params, n_iter=10, cv=5)\n",
    "random_search.fit(X_train, y_train_encoded)\n"
   ],
   "metadata": {
    "collapsed": false,
    "ExecuteTime": {
     "end_time": "2023-12-10T19:05:47.433504800Z",
     "start_time": "2023-12-10T19:05:34.459287Z"
    }
   },
   "id": "b9b9c42b4f8175cf"
  },
  {
   "cell_type": "code",
   "execution_count": 11,
   "outputs": [
    {
     "data": {
      "text/plain": "{'model__subsample': 1,\n 'model__scale_pos_weight': 10,\n 'model__min_child_weight': 1,\n 'model__max_leaves': 0,\n 'model__max_depth': 3,\n 'model__max_delta_step': 0,\n 'model__lambda': 5,\n 'model__gamma': 5,\n 'model__eta': 0.2,\n 'model__colsample_bytree': 1,\n 'model__colsample_bynode': 0.5,\n 'model__colsample_bylevel': 0.5,\n 'model__alpha': 0}"
     },
     "execution_count": 11,
     "metadata": {},
     "output_type": "execute_result"
    }
   ],
   "source": [
    "random_search.best_params_"
   ],
   "metadata": {
    "collapsed": false,
    "ExecuteTime": {
     "end_time": "2023-12-10T19:05:47.605505100Z",
     "start_time": "2023-12-10T19:05:47.431504800Z"
    }
   },
   "id": "204ce31a273ce099"
  },
  {
   "cell_type": "code",
   "execution_count": 18,
   "outputs": [
    {
     "data": {
      "text/plain": "array(['CC', 'CC', 'BB', 'CC', 'BA', 'CB', 'BB', 'BA', 'CC', 'BA', 'BB',\n       'CB', 'BB', 'BB', 'CB', 'BB', 'BA', 'DC', 'CC', 'BB', 'CB', 'DC',\n       'CC', 'BA', 'BA', 'BB', 'CB', 'BA', 'BA', 'DC', 'BB', 'BA', 'BB',\n       'CC', 'BA', 'BA', 'BA', 'DC', 'BB', 'BA', 'BA', 'BA', 'CB', 'BA'],\n      dtype=object)"
     },
     "execution_count": 18,
     "metadata": {},
     "output_type": "execute_result"
    }
   ],
   "source": [
    "result_predicted = np.round(random_search.predict(X_test))\n",
    "label_encoder.inverse_transform(result_predicted.astype(int))"
   ],
   "metadata": {
    "collapsed": false,
    "ExecuteTime": {
     "end_time": "2023-12-10T19:10:35.359548700Z",
     "start_time": "2023-12-10T19:10:35.303549700Z"
    }
   },
   "id": "7058452d42f6cfa5"
  },
  {
   "cell_type": "code",
   "execution_count": 21,
   "outputs": [],
   "source": [
    "label_encoder = joblib.load('label_enc.joblib')"
   ],
   "metadata": {
    "collapsed": false,
    "ExecuteTime": {
     "end_time": "2023-12-10T19:13:10.824252Z",
     "start_time": "2023-12-10T19:13:10.758255300Z"
    }
   },
   "id": "19aa36ce813dfd38"
  },
  {
   "cell_type": "code",
   "execution_count": 157,
   "outputs": [
    {
     "ename": "KeyboardInterrupt",
     "evalue": "",
     "output_type": "error",
     "traceback": [
      "\u001B[1;31m---------------------------------------------------------------------------\u001B[0m",
      "\u001B[1;31mKeyboardInterrupt\u001B[0m                         Traceback (most recent call last)",
      "Cell \u001B[1;32mIn[157], line 2\u001B[0m\n\u001B[0;32m      1\u001B[0m grid_search \u001B[38;5;241m=\u001B[39m GridSearchCV(pipe,  param_grid\u001B[38;5;241m=\u001B[39mparams, cv\u001B[38;5;241m=\u001B[39m\u001B[38;5;241m3\u001B[39m,n_jobs\u001B[38;5;241m=\u001B[39m\u001B[38;5;241m-\u001B[39m\u001B[38;5;241m1\u001B[39m)\n\u001B[1;32m----> 2\u001B[0m \u001B[43mgrid_search\u001B[49m\u001B[38;5;241;43m.\u001B[39;49m\u001B[43mfit\u001B[49m\u001B[43m(\u001B[49m\u001B[43mX_train\u001B[49m\u001B[43m,\u001B[49m\u001B[43m \u001B[49m\u001B[43my_train_encoded\u001B[49m\u001B[43m)\u001B[49m\n",
      "File \u001B[1;32m~\\.conda\\envs\\Training_XG_Boost\\lib\\site-packages\\sklearn\\base.py:1151\u001B[0m, in \u001B[0;36m_fit_context.<locals>.decorator.<locals>.wrapper\u001B[1;34m(estimator, *args, **kwargs)\u001B[0m\n\u001B[0;32m   1144\u001B[0m     estimator\u001B[38;5;241m.\u001B[39m_validate_params()\n\u001B[0;32m   1146\u001B[0m \u001B[38;5;28;01mwith\u001B[39;00m config_context(\n\u001B[0;32m   1147\u001B[0m     skip_parameter_validation\u001B[38;5;241m=\u001B[39m(\n\u001B[0;32m   1148\u001B[0m         prefer_skip_nested_validation \u001B[38;5;129;01mor\u001B[39;00m global_skip_validation\n\u001B[0;32m   1149\u001B[0m     )\n\u001B[0;32m   1150\u001B[0m ):\n\u001B[1;32m-> 1151\u001B[0m     \u001B[38;5;28;01mreturn\u001B[39;00m fit_method(estimator, \u001B[38;5;241m*\u001B[39margs, \u001B[38;5;241m*\u001B[39m\u001B[38;5;241m*\u001B[39mkwargs)\n",
      "File \u001B[1;32m~\\.conda\\envs\\Training_XG_Boost\\lib\\site-packages\\sklearn\\model_selection\\_search.py:898\u001B[0m, in \u001B[0;36mBaseSearchCV.fit\u001B[1;34m(self, X, y, groups, **fit_params)\u001B[0m\n\u001B[0;32m    892\u001B[0m     results \u001B[38;5;241m=\u001B[39m \u001B[38;5;28mself\u001B[39m\u001B[38;5;241m.\u001B[39m_format_results(\n\u001B[0;32m    893\u001B[0m         all_candidate_params, n_splits, all_out, all_more_results\n\u001B[0;32m    894\u001B[0m     )\n\u001B[0;32m    896\u001B[0m     \u001B[38;5;28;01mreturn\u001B[39;00m results\n\u001B[1;32m--> 898\u001B[0m \u001B[38;5;28;43mself\u001B[39;49m\u001B[38;5;241;43m.\u001B[39;49m\u001B[43m_run_search\u001B[49m\u001B[43m(\u001B[49m\u001B[43mevaluate_candidates\u001B[49m\u001B[43m)\u001B[49m\n\u001B[0;32m    900\u001B[0m \u001B[38;5;66;03m# multimetric is determined here because in the case of a callable\u001B[39;00m\n\u001B[0;32m    901\u001B[0m \u001B[38;5;66;03m# self.scoring the return type is only known after calling\u001B[39;00m\n\u001B[0;32m    902\u001B[0m first_test_score \u001B[38;5;241m=\u001B[39m all_out[\u001B[38;5;241m0\u001B[39m][\u001B[38;5;124m\"\u001B[39m\u001B[38;5;124mtest_scores\u001B[39m\u001B[38;5;124m\"\u001B[39m]\n",
      "File \u001B[1;32m~\\.conda\\envs\\Training_XG_Boost\\lib\\site-packages\\sklearn\\model_selection\\_search.py:1419\u001B[0m, in \u001B[0;36mGridSearchCV._run_search\u001B[1;34m(self, evaluate_candidates)\u001B[0m\n\u001B[0;32m   1417\u001B[0m \u001B[38;5;28;01mdef\u001B[39;00m \u001B[38;5;21m_run_search\u001B[39m(\u001B[38;5;28mself\u001B[39m, evaluate_candidates):\n\u001B[0;32m   1418\u001B[0m \u001B[38;5;250m    \u001B[39m\u001B[38;5;124;03m\"\"\"Search all candidates in param_grid\"\"\"\u001B[39;00m\n\u001B[1;32m-> 1419\u001B[0m     \u001B[43mevaluate_candidates\u001B[49m\u001B[43m(\u001B[49m\u001B[43mParameterGrid\u001B[49m\u001B[43m(\u001B[49m\u001B[38;5;28;43mself\u001B[39;49m\u001B[38;5;241;43m.\u001B[39;49m\u001B[43mparam_grid\u001B[49m\u001B[43m)\u001B[49m\u001B[43m)\u001B[49m\n",
      "File \u001B[1;32m~\\.conda\\envs\\Training_XG_Boost\\lib\\site-packages\\sklearn\\model_selection\\_search.py:845\u001B[0m, in \u001B[0;36mBaseSearchCV.fit.<locals>.evaluate_candidates\u001B[1;34m(candidate_params, cv, more_results)\u001B[0m\n\u001B[0;32m    837\u001B[0m \u001B[38;5;28;01mif\u001B[39;00m \u001B[38;5;28mself\u001B[39m\u001B[38;5;241m.\u001B[39mverbose \u001B[38;5;241m>\u001B[39m \u001B[38;5;241m0\u001B[39m:\n\u001B[0;32m    838\u001B[0m     \u001B[38;5;28mprint\u001B[39m(\n\u001B[0;32m    839\u001B[0m         \u001B[38;5;124m\"\u001B[39m\u001B[38;5;124mFitting \u001B[39m\u001B[38;5;132;01m{0}\u001B[39;00m\u001B[38;5;124m folds for each of \u001B[39m\u001B[38;5;132;01m{1}\u001B[39;00m\u001B[38;5;124m candidates,\u001B[39m\u001B[38;5;124m\"\u001B[39m\n\u001B[0;32m    840\u001B[0m         \u001B[38;5;124m\"\u001B[39m\u001B[38;5;124m totalling \u001B[39m\u001B[38;5;132;01m{2}\u001B[39;00m\u001B[38;5;124m fits\u001B[39m\u001B[38;5;124m\"\u001B[39m\u001B[38;5;241m.\u001B[39mformat(\n\u001B[0;32m    841\u001B[0m             n_splits, n_candidates, n_candidates \u001B[38;5;241m*\u001B[39m n_splits\n\u001B[0;32m    842\u001B[0m         )\n\u001B[0;32m    843\u001B[0m     )\n\u001B[1;32m--> 845\u001B[0m out \u001B[38;5;241m=\u001B[39m \u001B[43mparallel\u001B[49m\u001B[43m(\u001B[49m\n\u001B[0;32m    846\u001B[0m \u001B[43m    \u001B[49m\u001B[43mdelayed\u001B[49m\u001B[43m(\u001B[49m\u001B[43m_fit_and_score\u001B[49m\u001B[43m)\u001B[49m\u001B[43m(\u001B[49m\n\u001B[0;32m    847\u001B[0m \u001B[43m        \u001B[49m\u001B[43mclone\u001B[49m\u001B[43m(\u001B[49m\u001B[43mbase_estimator\u001B[49m\u001B[43m)\u001B[49m\u001B[43m,\u001B[49m\n\u001B[0;32m    848\u001B[0m \u001B[43m        \u001B[49m\u001B[43mX\u001B[49m\u001B[43m,\u001B[49m\n\u001B[0;32m    849\u001B[0m \u001B[43m        \u001B[49m\u001B[43my\u001B[49m\u001B[43m,\u001B[49m\n\u001B[0;32m    850\u001B[0m \u001B[43m        \u001B[49m\u001B[43mtrain\u001B[49m\u001B[38;5;241;43m=\u001B[39;49m\u001B[43mtrain\u001B[49m\u001B[43m,\u001B[49m\n\u001B[0;32m    851\u001B[0m \u001B[43m        \u001B[49m\u001B[43mtest\u001B[49m\u001B[38;5;241;43m=\u001B[39;49m\u001B[43mtest\u001B[49m\u001B[43m,\u001B[49m\n\u001B[0;32m    852\u001B[0m \u001B[43m        \u001B[49m\u001B[43mparameters\u001B[49m\u001B[38;5;241;43m=\u001B[39;49m\u001B[43mparameters\u001B[49m\u001B[43m,\u001B[49m\n\u001B[0;32m    853\u001B[0m \u001B[43m        \u001B[49m\u001B[43msplit_progress\u001B[49m\u001B[38;5;241;43m=\u001B[39;49m\u001B[43m(\u001B[49m\u001B[43msplit_idx\u001B[49m\u001B[43m,\u001B[49m\u001B[43m \u001B[49m\u001B[43mn_splits\u001B[49m\u001B[43m)\u001B[49m\u001B[43m,\u001B[49m\n\u001B[0;32m    854\u001B[0m \u001B[43m        \u001B[49m\u001B[43mcandidate_progress\u001B[49m\u001B[38;5;241;43m=\u001B[39;49m\u001B[43m(\u001B[49m\u001B[43mcand_idx\u001B[49m\u001B[43m,\u001B[49m\u001B[43m \u001B[49m\u001B[43mn_candidates\u001B[49m\u001B[43m)\u001B[49m\u001B[43m,\u001B[49m\n\u001B[0;32m    855\u001B[0m \u001B[43m        \u001B[49m\u001B[38;5;241;43m*\u001B[39;49m\u001B[38;5;241;43m*\u001B[39;49m\u001B[43mfit_and_score_kwargs\u001B[49m\u001B[43m,\u001B[49m\n\u001B[0;32m    856\u001B[0m \u001B[43m    \u001B[49m\u001B[43m)\u001B[49m\n\u001B[0;32m    857\u001B[0m \u001B[43m    \u001B[49m\u001B[38;5;28;43;01mfor\u001B[39;49;00m\u001B[43m \u001B[49m\u001B[43m(\u001B[49m\u001B[43mcand_idx\u001B[49m\u001B[43m,\u001B[49m\u001B[43m \u001B[49m\u001B[43mparameters\u001B[49m\u001B[43m)\u001B[49m\u001B[43m,\u001B[49m\u001B[43m \u001B[49m\u001B[43m(\u001B[49m\u001B[43msplit_idx\u001B[49m\u001B[43m,\u001B[49m\u001B[43m \u001B[49m\u001B[43m(\u001B[49m\u001B[43mtrain\u001B[49m\u001B[43m,\u001B[49m\u001B[43m \u001B[49m\u001B[43mtest\u001B[49m\u001B[43m)\u001B[49m\u001B[43m)\u001B[49m\u001B[43m \u001B[49m\u001B[38;5;129;43;01min\u001B[39;49;00m\u001B[43m \u001B[49m\u001B[43mproduct\u001B[49m\u001B[43m(\u001B[49m\n\u001B[0;32m    858\u001B[0m \u001B[43m        \u001B[49m\u001B[38;5;28;43menumerate\u001B[39;49m\u001B[43m(\u001B[49m\u001B[43mcandidate_params\u001B[49m\u001B[43m)\u001B[49m\u001B[43m,\u001B[49m\u001B[43m \u001B[49m\u001B[38;5;28;43menumerate\u001B[39;49m\u001B[43m(\u001B[49m\u001B[43mcv\u001B[49m\u001B[38;5;241;43m.\u001B[39;49m\u001B[43msplit\u001B[49m\u001B[43m(\u001B[49m\u001B[43mX\u001B[49m\u001B[43m,\u001B[49m\u001B[43m \u001B[49m\u001B[43my\u001B[49m\u001B[43m,\u001B[49m\u001B[43m \u001B[49m\u001B[43mgroups\u001B[49m\u001B[43m)\u001B[49m\u001B[43m)\u001B[49m\n\u001B[0;32m    859\u001B[0m \u001B[43m    \u001B[49m\u001B[43m)\u001B[49m\n\u001B[0;32m    860\u001B[0m \u001B[43m\u001B[49m\u001B[43m)\u001B[49m\n\u001B[0;32m    862\u001B[0m \u001B[38;5;28;01mif\u001B[39;00m \u001B[38;5;28mlen\u001B[39m(out) \u001B[38;5;241m<\u001B[39m \u001B[38;5;241m1\u001B[39m:\n\u001B[0;32m    863\u001B[0m     \u001B[38;5;28;01mraise\u001B[39;00m \u001B[38;5;167;01mValueError\u001B[39;00m(\n\u001B[0;32m    864\u001B[0m         \u001B[38;5;124m\"\u001B[39m\u001B[38;5;124mNo fits were performed. \u001B[39m\u001B[38;5;124m\"\u001B[39m\n\u001B[0;32m    865\u001B[0m         \u001B[38;5;124m\"\u001B[39m\u001B[38;5;124mWas the CV iterator empty? \u001B[39m\u001B[38;5;124m\"\u001B[39m\n\u001B[0;32m    866\u001B[0m         \u001B[38;5;124m\"\u001B[39m\u001B[38;5;124mWere there no candidates?\u001B[39m\u001B[38;5;124m\"\u001B[39m\n\u001B[0;32m    867\u001B[0m     )\n",
      "File \u001B[1;32m~\\.conda\\envs\\Training_XG_Boost\\lib\\site-packages\\sklearn\\utils\\parallel.py:65\u001B[0m, in \u001B[0;36mParallel.__call__\u001B[1;34m(self, iterable)\u001B[0m\n\u001B[0;32m     60\u001B[0m config \u001B[38;5;241m=\u001B[39m get_config()\n\u001B[0;32m     61\u001B[0m iterable_with_config \u001B[38;5;241m=\u001B[39m (\n\u001B[0;32m     62\u001B[0m     (_with_config(delayed_func, config), args, kwargs)\n\u001B[0;32m     63\u001B[0m     \u001B[38;5;28;01mfor\u001B[39;00m delayed_func, args, kwargs \u001B[38;5;129;01min\u001B[39;00m iterable\n\u001B[0;32m     64\u001B[0m )\n\u001B[1;32m---> 65\u001B[0m \u001B[38;5;28;01mreturn\u001B[39;00m \u001B[38;5;28;43msuper\u001B[39;49m\u001B[43m(\u001B[49m\u001B[43m)\u001B[49m\u001B[38;5;241;43m.\u001B[39;49m\u001B[38;5;21;43m__call__\u001B[39;49m\u001B[43m(\u001B[49m\u001B[43miterable_with_config\u001B[49m\u001B[43m)\u001B[49m\n",
      "File \u001B[1;32m~\\.conda\\envs\\Training_XG_Boost\\lib\\site-packages\\joblib\\parallel.py:1098\u001B[0m, in \u001B[0;36mParallel.__call__\u001B[1;34m(self, iterable)\u001B[0m\n\u001B[0;32m   1095\u001B[0m     \u001B[38;5;28mself\u001B[39m\u001B[38;5;241m.\u001B[39m_iterating \u001B[38;5;241m=\u001B[39m \u001B[38;5;28;01mFalse\u001B[39;00m\n\u001B[0;32m   1097\u001B[0m \u001B[38;5;28;01mwith\u001B[39;00m \u001B[38;5;28mself\u001B[39m\u001B[38;5;241m.\u001B[39m_backend\u001B[38;5;241m.\u001B[39mretrieval_context():\n\u001B[1;32m-> 1098\u001B[0m     \u001B[38;5;28;43mself\u001B[39;49m\u001B[38;5;241;43m.\u001B[39;49m\u001B[43mretrieve\u001B[49m\u001B[43m(\u001B[49m\u001B[43m)\u001B[49m\n\u001B[0;32m   1099\u001B[0m \u001B[38;5;66;03m# Make sure that we get a last message telling us we are done\u001B[39;00m\n\u001B[0;32m   1100\u001B[0m elapsed_time \u001B[38;5;241m=\u001B[39m time\u001B[38;5;241m.\u001B[39mtime() \u001B[38;5;241m-\u001B[39m \u001B[38;5;28mself\u001B[39m\u001B[38;5;241m.\u001B[39m_start_time\n",
      "File \u001B[1;32m~\\.conda\\envs\\Training_XG_Boost\\lib\\site-packages\\joblib\\parallel.py:975\u001B[0m, in \u001B[0;36mParallel.retrieve\u001B[1;34m(self)\u001B[0m\n\u001B[0;32m    973\u001B[0m \u001B[38;5;28;01mtry\u001B[39;00m:\n\u001B[0;32m    974\u001B[0m     \u001B[38;5;28;01mif\u001B[39;00m \u001B[38;5;28mgetattr\u001B[39m(\u001B[38;5;28mself\u001B[39m\u001B[38;5;241m.\u001B[39m_backend, \u001B[38;5;124m'\u001B[39m\u001B[38;5;124msupports_timeout\u001B[39m\u001B[38;5;124m'\u001B[39m, \u001B[38;5;28;01mFalse\u001B[39;00m):\n\u001B[1;32m--> 975\u001B[0m         \u001B[38;5;28mself\u001B[39m\u001B[38;5;241m.\u001B[39m_output\u001B[38;5;241m.\u001B[39mextend(\u001B[43mjob\u001B[49m\u001B[38;5;241;43m.\u001B[39;49m\u001B[43mget\u001B[49m\u001B[43m(\u001B[49m\u001B[43mtimeout\u001B[49m\u001B[38;5;241;43m=\u001B[39;49m\u001B[38;5;28;43mself\u001B[39;49m\u001B[38;5;241;43m.\u001B[39;49m\u001B[43mtimeout\u001B[49m\u001B[43m)\u001B[49m)\n\u001B[0;32m    976\u001B[0m     \u001B[38;5;28;01melse\u001B[39;00m:\n\u001B[0;32m    977\u001B[0m         \u001B[38;5;28mself\u001B[39m\u001B[38;5;241m.\u001B[39m_output\u001B[38;5;241m.\u001B[39mextend(job\u001B[38;5;241m.\u001B[39mget())\n",
      "File \u001B[1;32m~\\.conda\\envs\\Training_XG_Boost\\lib\\site-packages\\joblib\\_parallel_backends.py:567\u001B[0m, in \u001B[0;36mLokyBackend.wrap_future_result\u001B[1;34m(future, timeout)\u001B[0m\n\u001B[0;32m    564\u001B[0m \u001B[38;5;250m\u001B[39m\u001B[38;5;124;03m\"\"\"Wrapper for Future.result to implement the same behaviour as\u001B[39;00m\n\u001B[0;32m    565\u001B[0m \u001B[38;5;124;03mAsyncResults.get from multiprocessing.\"\"\"\u001B[39;00m\n\u001B[0;32m    566\u001B[0m \u001B[38;5;28;01mtry\u001B[39;00m:\n\u001B[1;32m--> 567\u001B[0m     \u001B[38;5;28;01mreturn\u001B[39;00m \u001B[43mfuture\u001B[49m\u001B[38;5;241;43m.\u001B[39;49m\u001B[43mresult\u001B[49m\u001B[43m(\u001B[49m\u001B[43mtimeout\u001B[49m\u001B[38;5;241;43m=\u001B[39;49m\u001B[43mtimeout\u001B[49m\u001B[43m)\u001B[49m\n\u001B[0;32m    568\u001B[0m \u001B[38;5;28;01mexcept\u001B[39;00m CfTimeoutError \u001B[38;5;28;01mas\u001B[39;00m e:\n\u001B[0;32m    569\u001B[0m     \u001B[38;5;28;01mraise\u001B[39;00m \u001B[38;5;167;01mTimeoutError\u001B[39;00m \u001B[38;5;28;01mfrom\u001B[39;00m \u001B[38;5;21;01me\u001B[39;00m\n",
      "File \u001B[1;32m~\\.conda\\envs\\Training_XG_Boost\\lib\\concurrent\\futures\\_base.py:453\u001B[0m, in \u001B[0;36mFuture.result\u001B[1;34m(self, timeout)\u001B[0m\n\u001B[0;32m    450\u001B[0m \u001B[38;5;28;01melif\u001B[39;00m \u001B[38;5;28mself\u001B[39m\u001B[38;5;241m.\u001B[39m_state \u001B[38;5;241m==\u001B[39m FINISHED:\n\u001B[0;32m    451\u001B[0m     \u001B[38;5;28;01mreturn\u001B[39;00m \u001B[38;5;28mself\u001B[39m\u001B[38;5;241m.\u001B[39m__get_result()\n\u001B[1;32m--> 453\u001B[0m \u001B[38;5;28;43mself\u001B[39;49m\u001B[38;5;241;43m.\u001B[39;49m\u001B[43m_condition\u001B[49m\u001B[38;5;241;43m.\u001B[39;49m\u001B[43mwait\u001B[49m\u001B[43m(\u001B[49m\u001B[43mtimeout\u001B[49m\u001B[43m)\u001B[49m\n\u001B[0;32m    455\u001B[0m \u001B[38;5;28;01mif\u001B[39;00m \u001B[38;5;28mself\u001B[39m\u001B[38;5;241m.\u001B[39m_state \u001B[38;5;129;01min\u001B[39;00m [CANCELLED, CANCELLED_AND_NOTIFIED]:\n\u001B[0;32m    456\u001B[0m     \u001B[38;5;28;01mraise\u001B[39;00m CancelledError()\n",
      "File \u001B[1;32m~\\.conda\\envs\\Training_XG_Boost\\lib\\threading.py:320\u001B[0m, in \u001B[0;36mCondition.wait\u001B[1;34m(self, timeout)\u001B[0m\n\u001B[0;32m    318\u001B[0m \u001B[38;5;28;01mtry\u001B[39;00m:    \u001B[38;5;66;03m# restore state no matter what (e.g., KeyboardInterrupt)\u001B[39;00m\n\u001B[0;32m    319\u001B[0m     \u001B[38;5;28;01mif\u001B[39;00m timeout \u001B[38;5;129;01mis\u001B[39;00m \u001B[38;5;28;01mNone\u001B[39;00m:\n\u001B[1;32m--> 320\u001B[0m         \u001B[43mwaiter\u001B[49m\u001B[38;5;241;43m.\u001B[39;49m\u001B[43macquire\u001B[49m\u001B[43m(\u001B[49m\u001B[43m)\u001B[49m\n\u001B[0;32m    321\u001B[0m         gotit \u001B[38;5;241m=\u001B[39m \u001B[38;5;28;01mTrue\u001B[39;00m\n\u001B[0;32m    322\u001B[0m     \u001B[38;5;28;01melse\u001B[39;00m:\n",
      "\u001B[1;31mKeyboardInterrupt\u001B[0m: "
     ]
    }
   ],
   "source": [
    "grid_search = GridSearchCV(pipe,  param_grid=params, cv=3,n_jobs=-1)\n",
    "grid_search.fit(X_train, y_train_encoded)\n"
   ],
   "metadata": {
    "collapsed": false,
    "ExecuteTime": {
     "end_time": "2023-12-10T15:57:18.631335500Z",
     "start_time": "2023-12-10T15:49:44.945510500Z"
    }
   },
   "id": "c9b52b2e96f07d8"
  },
  {
   "cell_type": "code",
   "execution_count": null,
   "outputs": [],
   "source": [
    "ml"
   ],
   "metadata": {
    "collapsed": false
   },
   "id": "96febc1183e76d67"
  },
  {
   "cell_type": "code",
   "execution_count": null,
   "outputs": [],
   "source": [
    "# Функция для оптимизации с помощью Optuna\n",
    "def objective(trial):\n",
    "\n",
    "    # Параметры для оптимизации\n",
    "    params = {\n",
    "        'model__eta': trial.suggest_float('model__eta', 0.01, 0.2),\n",
    "        'model__gamma': trial.suggest_float('model__gamma', 0, 5),\n",
    "        'model__max_depth': trial.suggest_int('model__max_depth', 3, 10),\n",
    "        'model__min_child_weight': trial.suggest_float('model__min_child_weight', 1, 10),\n",
    "        'model__max_delta_step': trial.suggest_float('model__max_delta_step', 0, 10),\n",
    "        'model__subsample': trial.suggest_float('model__subsample', 0.1,1),\n",
    "        'model__colsample_bytree': trial.suggest_float('model__colsample_bytree', 0.5, 1),\n",
    "        'model__colsample_bylevel': trial.suggest_float('model__colsample_bylevel', 0.5, 1),\n",
    "        'model__colsample_bynode': trial.suggest_float('model__colsample_bynode', 0.5, 1),\n",
    "        'model__lambda': trial.suggest_float('model__lambda', 0, 5),\n",
    "        'model__alpha': trial.suggest_float('model__alpha', 0, 5),\n",
    "        'model__scale_pos_weight': trial.suggest_float('model__scale_pos_weight', 1, 10),\n",
    "        'model__max_leaves': trial.suggest_int('model__max_leaves', 0, 100),\n",
    "               #  'model__reg_alpha': trial.suggest_float('model__reg_alpha', 1e-5, 1e2),\n",
    "               # 'model__reg_lambda': trial.suggest_float('model__reg_lambda', 1e-5, 1e2)\n",
    "               }\n",
    "\n",
    "    pipe.set_params(**params)\n",
    "\n",
    "    # Обучение модели\n",
    "    cross_val_mse = cross_val_score(pipe,X_train, y_train_encoded).mean()\n",
    "    # pipe.fit(X_train, y_train)\n",
    "\n",
    "    return cross_val_mse\n",
    "\n",
    "# Запуск оптимизации\n",
    "study = optuna.create_study(direction='minimize')\n",
    "study.optimize(objective, n_trials=100)  # Указать желаемое количество итераций"
   ],
   "metadata": {
    "collapsed": false,
    "is_executing": true,
    "ExecuteTime": {
     "start_time": "2023-12-10T15:41:06.413548600Z"
    }
   },
   "id": "78a736185b05ff54"
  },
  {
   "cell_type": "code",
   "execution_count": null,
   "outputs": [],
   "source": [
    "# Accessing the results from RandomizedSearchCV\n",
    "results = pd.DataFrame()\n",
    "results['RandomizedSearchCV'] = random_search.best_params_\n",
    "results['GreedSearchCV'] = grid_search.best_params_\n",
    "results['Optuna'] = study.best_params_\n",
    "\n",
    "print(results)"
   ],
   "metadata": {
    "collapsed": false,
    "is_executing": true,
    "ExecuteTime": {
     "start_time": "2023-12-10T15:41:06.418550500Z"
    }
   },
   "id": "9b8dd215883e35aa"
  },
  {
   "cell_type": "markdown",
   "source": [
    "План - найти параметры тремя способами, затем сравнить их и попытаться сравнить качество модели с каждым набором гиперпараметров\n"
   ],
   "metadata": {
    "collapsed": false
   },
   "id": "d61e1802ac0123ce"
  },
  {
   "cell_type": "markdown",
   "source": [
    "Затем проверить по метрикам и построить графики\n"
   ],
   "metadata": {
    "collapsed": false
   },
   "id": "2343e3e428ae4219"
  },
  {
   "cell_type": "code",
   "execution_count": null,
   "outputs": [],
   "source": [],
   "metadata": {
    "collapsed": false,
    "ExecuteTime": {
     "end_time": "2023-12-10T15:41:06.430551500Z",
     "start_time": "2023-12-10T15:41:06.425552500Z"
    }
   },
   "id": "6134e152ff4331f8"
  },
  {
   "cell_type": "code",
   "execution_count": null,
   "outputs": [],
   "source": [],
   "metadata": {
    "collapsed": false
   },
   "id": "710baeed4b4cc2c3"
  }
 ],
 "metadata": {
  "kernelspec": {
   "display_name": "Python 3",
   "language": "python",
   "name": "python3"
  },
  "language_info": {
   "codemirror_mode": {
    "name": "ipython",
    "version": 2
   },
   "file_extension": ".py",
   "mimetype": "text/x-python",
   "name": "python",
   "nbconvert_exporter": "python",
   "pygments_lexer": "ipython2",
   "version": "2.7.6"
  }
 },
 "nbformat": 4,
 "nbformat_minor": 5
}
