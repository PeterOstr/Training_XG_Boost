{
 "cells": [
  {
   "cell_type": "code",
   "execution_count": 9,
   "id": "initial_id",
   "metadata": {
    "collapsed": true,
    "ExecuteTime": {
     "end_time": "2023-12-07T22:30:17.404261800Z",
     "start_time": "2023-12-07T22:30:13.138680900Z"
    }
   },
   "outputs": [],
   "source": [
    "import pandas as pd\n",
    "import numpy as np\n",
    "import matplotlib as mpl\n",
    "import matplotlib.pyplot as plt\n",
    "from sklearn.pipeline import Pipeline\n",
    "from sklearn.model_selection import RandomizedSearchCV, GridSearchCV\n",
    "from sklearn.model_selection import train_test_split, StratifiedKFold, KFold\n",
    "\n",
    "\n",
    "import warnings; warnings.filterwarnings('ignore')\n"
   ]
  },
  {
   "cell_type": "markdown",
   "source": [
    "### 1. Abstract\n",
    "In this notebook we will consider 3 ways of hyperparameters optimization:\n",
    "\n",
    "- by Grid Search\n",
    "- by Random Search\n",
    "- by Optuna optimization module\n"
   ],
   "metadata": {
    "collapsed": false
   },
   "id": "804f6f727b42dd0f"
  },
  {
   "cell_type": "markdown",
   "source": [
    "For testing purposes we will use the Student Classification Dataset from Kaggle (https://www.kaggle.com/datasets/jacksondivakarr/student-classification-dataset).\n",
    "\n",
    "About Dataset\n",
    "This dataset encompasses various aspects related to student performance. Each entry is uniquely identified by an 'Id'. The dataset includes demographic information such as 'Student_Age' and 'Sex'. 'High_School_Type' categorizes the type of high school attended, while 'Scholarship' indicates whether the student has a scholarship. Details about 'Additional_Work' and involvement in 'Sports_activity' provide insights into extracurricular commitments.\n",
    "\n",
    "'Transportation' outlines the mode of commuting for each student. Academic aspects are captured through 'Weekly_Study_Hours', 'Attendance', and evaluations of 'Reading', 'Notes', and 'Listening_in_Class'. The culmination of these factors is reflected in the 'Grade' column, providing a comprehensive overview of student performance. This dataset serves as a valuable resource for exploring the multifaceted dynamics influencing academic outcomes. \n",
    "\n",
    "We will try to solve classification problem for \"Grade\" data"
   ],
   "metadata": {
    "collapsed": false
   },
   "id": "62193cfbc4f24b15"
  },
  {
   "cell_type": "code",
   "execution_count": 10,
   "outputs": [
    {
     "data": {
      "text/plain": "     Unnamed: 0    Id  Student_Age     Sex High_School_Type Scholarship  \\\n0             0  5001           21    Male            Other         50%   \n1             1  5002           20    Male            Other         50%   \n2             2  5003           21    Male            State         50%   \n3             3  5004           18  Female          Private         50%   \n4             4  5005           22    Male          Private         50%   \n..          ...   ...          ...     ...              ...         ...   \n140         140  5141           22  Female            State         50%   \n141         141  5142           18  Female            State         75%   \n142         142  5143           18  Female          Private         75%   \n143         143  5144           22  Female            State         75%   \n144         144  5145           18  Female          Private        100%   \n\n    Additional_Work Sports_activity Transportation  Weekly_Study_Hours  \\\n0               Yes              No        Private                   0   \n1               Yes              No        Private                   0   \n2                No              No        Private                   2   \n3               Yes              No            Bus                   2   \n4                No              No            Bus                  12   \n..              ...             ...            ...                 ...   \n140             Yes             Yes        Private                   0   \n141              No              No        Private                   0   \n142              No              No        Private                   0   \n143             Yes             Yes            Bus                  12   \n144              No              No        Private                  12   \n\n    Attendance Reading Notes Listening_in_Class Project_work Grade  \n0       Always     Yes   Yes                 No           No    AA  \n1       Always     Yes    No                Yes          Yes    AA  \n2        Never      No    No                 No          Yes    AA  \n3       Always      No   Yes                 No           No    AA  \n4       Always     Yes    No                Yes          Yes    AA  \n..         ...     ...   ...                ...          ...   ...  \n140     Always      No   Yes                 No          Yes    CC  \n141      Never      No   Yes                Yes           No    CC  \n142     Always     Yes    No                 No           No    AA  \n143  Sometimes      No   Yes                 No          Yes    CB  \n144     Always     Yes    No                Yes           No    BB  \n\n[145 rows x 16 columns]",
      "text/html": "<div>\n<style scoped>\n    .dataframe tbody tr th:only-of-type {\n        vertical-align: middle;\n    }\n\n    .dataframe tbody tr th {\n        vertical-align: top;\n    }\n\n    .dataframe thead th {\n        text-align: right;\n    }\n</style>\n<table border=\"1\" class=\"dataframe\">\n  <thead>\n    <tr style=\"text-align: right;\">\n      <th></th>\n      <th>Unnamed: 0</th>\n      <th>Id</th>\n      <th>Student_Age</th>\n      <th>Sex</th>\n      <th>High_School_Type</th>\n      <th>Scholarship</th>\n      <th>Additional_Work</th>\n      <th>Sports_activity</th>\n      <th>Transportation</th>\n      <th>Weekly_Study_Hours</th>\n      <th>Attendance</th>\n      <th>Reading</th>\n      <th>Notes</th>\n      <th>Listening_in_Class</th>\n      <th>Project_work</th>\n      <th>Grade</th>\n    </tr>\n  </thead>\n  <tbody>\n    <tr>\n      <th>0</th>\n      <td>0</td>\n      <td>5001</td>\n      <td>21</td>\n      <td>Male</td>\n      <td>Other</td>\n      <td>50%</td>\n      <td>Yes</td>\n      <td>No</td>\n      <td>Private</td>\n      <td>0</td>\n      <td>Always</td>\n      <td>Yes</td>\n      <td>Yes</td>\n      <td>No</td>\n      <td>No</td>\n      <td>AA</td>\n    </tr>\n    <tr>\n      <th>1</th>\n      <td>1</td>\n      <td>5002</td>\n      <td>20</td>\n      <td>Male</td>\n      <td>Other</td>\n      <td>50%</td>\n      <td>Yes</td>\n      <td>No</td>\n      <td>Private</td>\n      <td>0</td>\n      <td>Always</td>\n      <td>Yes</td>\n      <td>No</td>\n      <td>Yes</td>\n      <td>Yes</td>\n      <td>AA</td>\n    </tr>\n    <tr>\n      <th>2</th>\n      <td>2</td>\n      <td>5003</td>\n      <td>21</td>\n      <td>Male</td>\n      <td>State</td>\n      <td>50%</td>\n      <td>No</td>\n      <td>No</td>\n      <td>Private</td>\n      <td>2</td>\n      <td>Never</td>\n      <td>No</td>\n      <td>No</td>\n      <td>No</td>\n      <td>Yes</td>\n      <td>AA</td>\n    </tr>\n    <tr>\n      <th>3</th>\n      <td>3</td>\n      <td>5004</td>\n      <td>18</td>\n      <td>Female</td>\n      <td>Private</td>\n      <td>50%</td>\n      <td>Yes</td>\n      <td>No</td>\n      <td>Bus</td>\n      <td>2</td>\n      <td>Always</td>\n      <td>No</td>\n      <td>Yes</td>\n      <td>No</td>\n      <td>No</td>\n      <td>AA</td>\n    </tr>\n    <tr>\n      <th>4</th>\n      <td>4</td>\n      <td>5005</td>\n      <td>22</td>\n      <td>Male</td>\n      <td>Private</td>\n      <td>50%</td>\n      <td>No</td>\n      <td>No</td>\n      <td>Bus</td>\n      <td>12</td>\n      <td>Always</td>\n      <td>Yes</td>\n      <td>No</td>\n      <td>Yes</td>\n      <td>Yes</td>\n      <td>AA</td>\n    </tr>\n    <tr>\n      <th>...</th>\n      <td>...</td>\n      <td>...</td>\n      <td>...</td>\n      <td>...</td>\n      <td>...</td>\n      <td>...</td>\n      <td>...</td>\n      <td>...</td>\n      <td>...</td>\n      <td>...</td>\n      <td>...</td>\n      <td>...</td>\n      <td>...</td>\n      <td>...</td>\n      <td>...</td>\n      <td>...</td>\n    </tr>\n    <tr>\n      <th>140</th>\n      <td>140</td>\n      <td>5141</td>\n      <td>22</td>\n      <td>Female</td>\n      <td>State</td>\n      <td>50%</td>\n      <td>Yes</td>\n      <td>Yes</td>\n      <td>Private</td>\n      <td>0</td>\n      <td>Always</td>\n      <td>No</td>\n      <td>Yes</td>\n      <td>No</td>\n      <td>Yes</td>\n      <td>CC</td>\n    </tr>\n    <tr>\n      <th>141</th>\n      <td>141</td>\n      <td>5142</td>\n      <td>18</td>\n      <td>Female</td>\n      <td>State</td>\n      <td>75%</td>\n      <td>No</td>\n      <td>No</td>\n      <td>Private</td>\n      <td>0</td>\n      <td>Never</td>\n      <td>No</td>\n      <td>Yes</td>\n      <td>Yes</td>\n      <td>No</td>\n      <td>CC</td>\n    </tr>\n    <tr>\n      <th>142</th>\n      <td>142</td>\n      <td>5143</td>\n      <td>18</td>\n      <td>Female</td>\n      <td>Private</td>\n      <td>75%</td>\n      <td>No</td>\n      <td>No</td>\n      <td>Private</td>\n      <td>0</td>\n      <td>Always</td>\n      <td>Yes</td>\n      <td>No</td>\n      <td>No</td>\n      <td>No</td>\n      <td>AA</td>\n    </tr>\n    <tr>\n      <th>143</th>\n      <td>143</td>\n      <td>5144</td>\n      <td>22</td>\n      <td>Female</td>\n      <td>State</td>\n      <td>75%</td>\n      <td>Yes</td>\n      <td>Yes</td>\n      <td>Bus</td>\n      <td>12</td>\n      <td>Sometimes</td>\n      <td>No</td>\n      <td>Yes</td>\n      <td>No</td>\n      <td>Yes</td>\n      <td>CB</td>\n    </tr>\n    <tr>\n      <th>144</th>\n      <td>144</td>\n      <td>5145</td>\n      <td>18</td>\n      <td>Female</td>\n      <td>Private</td>\n      <td>100%</td>\n      <td>No</td>\n      <td>No</td>\n      <td>Private</td>\n      <td>12</td>\n      <td>Always</td>\n      <td>Yes</td>\n      <td>No</td>\n      <td>Yes</td>\n      <td>No</td>\n      <td>BB</td>\n    </tr>\n  </tbody>\n</table>\n<p>145 rows × 16 columns</p>\n</div>"
     },
     "execution_count": 10,
     "metadata": {},
     "output_type": "execute_result"
    }
   ],
   "source": [
    "data = pd.read_csv(\"student.csv\")\n",
    "data"
   ],
   "metadata": {
    "collapsed": false,
    "ExecuteTime": {
     "end_time": "2023-12-07T22:30:19.985880500Z",
     "start_time": "2023-12-07T22:30:19.940884800Z"
    }
   },
   "id": "ae7bcbc317167c1f"
  },
  {
   "cell_type": "code",
   "execution_count": 11,
   "outputs": [],
   "source": [
    "X = data.drop('Grade',axis=1)\n",
    "y = data['Grade']"
   ],
   "metadata": {
    "collapsed": false,
    "ExecuteTime": {
     "end_time": "2023-12-07T22:30:20.170877900Z",
     "start_time": "2023-12-07T22:30:20.144879400Z"
    }
   },
   "id": "cb0304f0be1c65de"
  },
  {
   "cell_type": "code",
   "execution_count": 12,
   "outputs": [],
   "source": [
    "X_train, X_test, y_train, y_test = train_test_split(X,y, train_size=0.7)\n"
   ],
   "metadata": {
    "collapsed": false,
    "ExecuteTime": {
     "end_time": "2023-12-07T22:30:20.296880700Z",
     "start_time": "2023-12-07T22:30:20.258911Z"
    }
   },
   "id": "ca3cbd7cea93b653"
  },
  {
   "cell_type": "code",
   "execution_count": null,
   "outputs": [],
   "source": [],
   "metadata": {
    "collapsed": false
   },
   "id": "d36887bc6dcc7a72"
  },
  {
   "cell_type": "code",
   "execution_count": null,
   "outputs": [],
   "source": [],
   "metadata": {
    "collapsed": false
   },
   "id": "ba581270253e9f02"
  }
 ],
 "metadata": {
  "kernelspec": {
   "display_name": "Python 3",
   "language": "python",
   "name": "python3"
  },
  "language_info": {
   "codemirror_mode": {
    "name": "ipython",
    "version": 2
   },
   "file_extension": ".py",
   "mimetype": "text/x-python",
   "name": "python",
   "nbconvert_exporter": "python",
   "pygments_lexer": "ipython2",
   "version": "2.7.6"
  }
 },
 "nbformat": 4,
 "nbformat_minor": 5
}
