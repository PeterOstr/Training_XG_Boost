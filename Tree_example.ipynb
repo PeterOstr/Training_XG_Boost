{
 "cells": [
  {
   "cell_type": "markdown",
   "source": [
    "# Let’s use a simple example data to demonstrate how XGBoost algorithm works\n"
   ],
   "metadata": {
    "collapsed": false
   },
   "id": "bc0903359dff077a"
  },
  {
   "cell_type": "markdown",
   "source": [
    "### A) on a regression problem.\n",
    "\n",
    "Let’s use a simple example data to demonstrate how XGBoost algorithm works on a regression problem.\n"
   ],
   "metadata": {
    "collapsed": false
   },
   "id": "6f0b0feaca667696"
  },
  {
   "cell_type": "raw",
   "source": [
    "X\t|\tY   \n",
    "==========\n",
    "5\t|\t1   \n",
    "8\t|\t2   \n",
    "15\t|\t8   \n",
    "20\t|\t4       \n",
    "-9 \t|   0   "
   ],
   "metadata": {
    "collapsed": false
   },
   "id": "c2577e007babce64"
  },
  {
   "cell_type": "markdown",
   "source": [
    "#### Step 1. Set an initial prediction\n",
    "Let’s set the initial prediction (F0(x)) to be 3. In other words, regardless of the value of X, the predicted Y will be 3 - mean value.\n"
   ],
   "metadata": {
    "collapsed": false
   },
   "id": "4744bcf8199fa154"
  },
  {
   "cell_type": "code",
   "execution_count": 2,
   "outputs": [
    {
     "data": {
      "text/plain": "3.0"
     },
     "execution_count": 2,
     "metadata": {},
     "output_type": "execute_result"
    }
   ],
   "source": [
    "x = [5,8,15,20,-9]\n",
    "y = [1,2,8,4,0]\n",
    "pred_0 = sum(y) / len(y)\n",
    "pred_0"
   ],
   "metadata": {
    "collapsed": false,
    "ExecuteTime": {
     "end_time": "2023-11-29T22:42:21.107885900Z",
     "start_time": "2023-11-29T22:42:21.069985100Z"
    }
   },
   "id": "c2061c203d833af"
  },
  {
   "cell_type": "raw",
   "source": [
    "X\t|\tY   |\tPred_0(mean)\n",
    "============================\n",
    "5\t|\t1   |\t3\n",
    "8\t|\t2   |\t3\n",
    "15\t|\t8   |\t3\n",
    "20\t|\t4   |\t3\n",
    "-9 \t|   0   |\t3"
   ],
   "metadata": {
    "collapsed": false
   },
   "id": "f0187cab1517c378"
  },
  {
   "cell_type": "markdown",
   "source": [
    "### Step 2. Calculate the residuals\n",
    "In this step we calculate the difference between the actual value (Y) and the predicted value (F0(x)).\n"
   ],
   "metadata": {
    "collapsed": false
   },
   "id": "22634783a4658d8a"
  },
  {
   "cell_type": "code",
   "execution_count": 3,
   "outputs": [
    {
     "data": {
      "text/plain": "[-2.0, -1.0, 5.0, 1.0, -3.0]"
     },
     "execution_count": 3,
     "metadata": {},
     "output_type": "execute_result"
    }
   ],
   "source": [
    "res_0 = []\n",
    "for i in range(len(y)):\n",
    "    res_0.append(y[i] - pred_0)\n",
    "res_0"
   ],
   "metadata": {
    "collapsed": false,
    "ExecuteTime": {
     "end_time": "2023-11-29T22:42:22.297715300Z",
     "start_time": "2023-11-29T22:42:22.274773700Z"
    }
   },
   "id": "c44aec44377a580a"
  },
  {
   "cell_type": "raw",
   "source": [
    "X\t|\tY   |Pred_0 |res_0 \n",
    "============================\n",
    "5\t|\t1   |\t3   | -2\n",
    "8\t|\t2   |\t3   | -1\n",
    "15\t|\t8   |\t3   |  5\n",
    "20\t|\t4   |\t3   |  1\n",
    "-9 \t|   0   |\t3   | -3"
   ],
   "metadata": {
    "collapsed": false
   },
   "id": "fcfa35ad44273d0c"
  },
  {
   "cell_type": "markdown",
   "source": [
    "### Step 3. Train model on the residuals\n",
    "\n",
    "Here, we build one or more tree-based models that are trained on [X, res].\n",
    "\n",
    "The following shows how a tree model is constructed."
   ],
   "metadata": {
    "collapsed": false
   },
   "id": "ec8b20a7cec723fe"
  },
  {
   "cell_type": "markdown",
   "source": [
    "#### A) Generate split candidates ####\n",
    "\n",
    "In this step we find one or more split candidates. The formula is with N rows we would have N - 1 split candidates.\n",
    "\n",
    "With our dataset example, here’s the result."
   ],
   "metadata": {
    "collapsed": false
   },
   "id": "dfc44ee82b95b50d"
  },
  {
   "cell_type": "raw",
   "source": [
    "Raw NBConvert\n",
    "\n",
    "\n",
    "===== Candidate Split 1 =====\n",
    "\n",
    "X\t|\tY   |Pred_0 |res_0 \n",
    "\n",
    "============================\n",
    "-9 \t|   0   |\t3   | -3\n",
    "————————————————————————————————————————————————————————————————————————> threshold = (-9 + 5) / 2 = -2\n",
    "5\t|\t1   |\t3   | -2\n",
    "8\t|\t2   |\t3   | -1\n",
    "15\t|\t8   |\t3   |  5\n",
    "20\t|\t4   |\t3   |  1\n",
    "\n",
    "\n",
    "===== Candidate Split 2 =====\n",
    "X\t|\tY   |Pred_0 |res_0 \n",
    "============================\n",
    "-9 \t|   0   |\t3   | -3\n",
    "5\t|\t1   |\t3   | -2\n",
    "————————————————————————————————————————————————————————————————————————> threshold = (5 + 8) / 2 = 6.5\n",
    "8\t|\t2   |\t3   | -1\n",
    "15\t|\t8   |\t3   |  5\n",
    "20\t|\t4   |\t3   |  1\n",
    "\n",
    "===== Candidate Split 3 =====\n",
    "\n",
    "X\t|\tY   |Pred_0 |res_0 \n",
    "============================\n",
    "-9 \t|   0   |\t3   | -3\n",
    "5\t|\t1   |\t3   | -2\n",
    "8\t|\t2   |\t3   | -1\n",
    "————————————————————————————————————————————————————————————————————————> threshold = (8 + 15) / 2 = 11.5\n",
    "15\t|\t8   |\t3   |  5\n",
    "20\t|\t4   |\t3   |  1\n",
    "\n",
    "===== Candidate Split 4 =====\n",
    "\n",
    "X\t|\tY   |Pred_0 |res_0 \n",
    "============================\n",
    "-9 \t|   0   |\t3   | -3\n",
    "5\t|\t1   |\t3   | -2\n",
    "8\t|\t2   |\t3   | -1\n",
    "15\t|\t8   |\t3   |  5\n",
    "————————————————————————————————————————————————————————————————————————> threshold = (15 + 20) / 2 = 22.5\n",
    "20\t|\t4   |\t3   |  1\n",
    "\n",
    "\n",
    "\n"
   ],
   "metadata": {
    "collapsed": false
   },
   "id": "3f0ea6ce4a00b009"
  },
  {
   "cell_type": "markdown",
   "source": [
    "The threshold will be used to create two child nodes. \n",
    "\n",
    "Here’s the complete parent-child nodes for each candidate."
   ],
   "metadata": {
    "collapsed": false
   },
   "id": "8d9d285725bf8c41"
  },
  {
   "cell_type": "markdown",
   "source": [
    "===== Candidate Split 1 =====\n",
    "\n",
    "Parent node -> X < -2\n",
    "Left child node, res_0 -> [-3]\n",
    "Right child node, res_0 -> [-2, -1, 5, 1]\n",
    "\n",
    "===== Candidate Split 2 =====\n",
    "\n",
    "Parent node -> X < 6.5\n",
    "Left child node -> [-3, -2]\n",
    "Right child node -> [-1, 5, 1]\n",
    "\n",
    "===== Candidate Split 3 =====\n",
    "\n",
    "Parent node -> X < 11.5\n",
    "Left child node -> [-3, -2, -1]\n",
    "Right child node -> [5, 1]\n",
    "\n",
    "===== Candidate Split 4 =====\n",
    "\n",
    "Parent node -> X < 22.5\n",
    "Left child node -> [-3, -2, -1, 5]\n",
    "Right child node -> [1]\n"
   ],
   "metadata": {
    "collapsed": false
   },
   "id": "e97164fc624a8e4e"
  },
  {
   "cell_type": "markdown",
   "source": [
    "#### B) Select the split\n",
    "From step (A) we generate one or more split candidates. The question is how to select the best one?\n",
    "\n",
    "In XGBoost, we select the best split by leveraging what are called as Similarity Score and Gain. Gain is calculated for the parent node, while Similarity Score is calculated for the child nodes. We select a candidate with the maximum Gain.\n",
    "\n",
    "Here are the formulas."
   ],
   "metadata": {
    "collapsed": false
   },
   "id": "cd998964dd514ed5"
  },
  {
   "cell_type": "markdown",
   "source": [
    "Gain = Left_similarity_score + Right_similarity_score - Root_similarity_score\n",
    "\n",
    "Similarity_score = SUM(residual_i)**2 / {SUM(prev_proba_i x (1 - prev_proba_i)) + lambda}\n",
    "\n",
    "But in this case we will consider all possible trees with depth = 2\n",
    "\n",
    "we have \n",
    "lamda = 1\n",
    "gamma = 5\n"
   ],
   "metadata": {
    "collapsed": false
   },
   "id": "c53b2818b86b5e0b"
  },
  {
   "cell_type": "markdown",
   "source": [
    "\n",
    "\n",
    "===== Candidate Split 1 =====\n",
    "\n",
    "Parent node -> X < -2\n",
    "Left child node, res_0 -> [-3]\n",
    "Right child node, res_0 -> [-2, -1, 5, 1]\n",
    "\n",
    "SS_root = (-3 -2 - 1 + 5 + 1)**2 / (5 + 1) = 0\n",
    "SS_left = (-3)**2 / (1 + 1)= 9/2 = 4.5\n",
    "SS_right = (-2 - 1 + 5 + 1)**2 / (4 + 1)= 9/5 = 1.8\n",
    "Gain = 4.5 + 1.8 - 0 - 5 = 0.3 > 0 => SPLITTING\n",
    "\n",
    "    ___SPLIT1.1___\n",
    "    \n",
    "    left - nothing to split - 1 element\n",
    "    right:\n",
    "        ___SPLIT1.11___\n",
    "        \n",
    "        Parent node -> X < 6.5\n",
    "        Left child node -> [-2]\n",
    "        Right child node -> [-1, 5, 1] \n",
    "        \n",
    "        SS_root = (-2 - 1 + 5 + 1)**2 / (4 + 1)= 9/5 = 1.8\n",
    "        SS_left = (-2)**2 / (1 + 1)= 4/2 = 2\n",
    "        SS_right = (- 1 + 5 + 1)**2 / (3 + 1)= 25/4 = 6.25\n",
    "        Gain = 2 + 6.25 - 1.8 - 5 = 1.45 > 0 => SPLITTING\n",
    "        \n",
    "        ___SPLIT1.12___\n",
    "\n",
    "        Parent node -> X < 11.5\n",
    "        Left child node -> [-2, -1]\n",
    "        Right child node -> [5, 1]\n",
    "        \n",
    "        SS_root = (-2 - 1 + 5 + 1)**2 / (4 + 1)= 9/5 = 1.8\n",
    "        SS_left = (-2 - 1)**2 / (2 + 1)= 9/3 = 3\n",
    "        SS_right = (5 + 1)**2 / (2 + 1)= 36/3 = 12\n",
    "        Gain = 3 + 12 - 1.8 - 5 = 8.2 > 0 => SPLITTING\n",
    "        \n",
    "        ___SPLIT1.13___\n",
    "\n",
    "        Parent node -> X < 22.5\n",
    "        Left child node -> [-2, -1, 5]\n",
    "        Right child node -> [1]\n",
    "        \n",
    "        SS_root = (-2 - 1 + 5 + 1)**2 / (4 + 1)= 9/5 = 1.8\n",
    "        SS_left = (-2 - 1 + 5)**2 / (2 + 1)= 4/3 = 1.3\n",
    "        SS_right = ( 1)**2 / (1 + 1)= 1/2 = 0.5\n",
    "        Gain = 1.3 + 0.5 - 1.8 - 5 = -5 < 0 => NO SPLITTING        \n",
    "        \n",
    "\n",
    "===== Candidate Split 2 =====\n",
    "\n",
    "Parent node -> X < 6.5\n",
    "Left child node -> [-3, -2]\n",
    "Right child node -> [-1, 5, 1]\n",
    "\n",
    "SS_root = (-3 -2 - 1 + 5 + 1)**2 / (5 + 1) = 0\n",
    "SS_left = (-3 - 2)**2 / (2 + 1)= 25/3 = 8.3\n",
    "SS_right = (- 1 + 5 + 1)**2 / (3 + 1)= 25/4 = 6.25\n",
    "Gain = 8.3 + 6.25 - 0 - 5 = 9.58 > 0 => SPLITTING\n",
    "\n",
    "    ___SPLIT2.1___\n",
    "    \n",
    "    left:\n",
    "        ___SPLIT2.11___\n",
    "        \n",
    "        Parent node -> X < -2\n",
    "        Left child node, res_0 -> [-3]\n",
    "        Right child node, res_0 -> [-2]\n",
    "        \n",
    "        SS_root = (-3 - 2)**2 / (2 + 1)= 25/3 = 8.3\n",
    "        SS_left = (-3)**2 / (1 + 1)= 9/2 = 4.5\n",
    "        SS_right = (-2)**2 / (1 + 1)= 24/2 = 12\n",
    "        Gain = 4.5 + 12 - 8.3 - 5 = 3.2 > 0 => SPLITTING\n",
    "     \n",
    "\n",
    "    right:\n",
    "        ___SPLIT2.12___\n",
    "\n",
    "        Parent node -> X < 11.5\n",
    "        Left child node -> [-1]\n",
    "        Right child node -> [5, 1]\n",
    "        \n",
    "        SS_root = (- 1 + 5 + 1)**2 / (3 + 1)= 25/4 = 6.25\n",
    "        SS_left = (- 1)**2 / (1 + 1)= 1/2 = 0.5\n",
    "        SS_right = (5 + 1)**2 / (2 + 1)= 36/3 = 12\n",
    "        Gain = 0.5 + 12 - 6.25 - 5 = 1.25 > 0 => SPLITTING\n",
    "        \n",
    "        ___SPLIT1.13___\n",
    "\n",
    "        Parent node -> X < 22.5\n",
    "        Left child node -> [-1, 5]\n",
    "        Right child node -> [1]\n",
    "        \n",
    "        SS_root = (- 1 + 5 + 1)**2 / (3 + 1)= 25/4 = 6.25\n",
    "        SS_left = (- 1 + 5)**2 / (2 + 1)= 16/3 = 5.3\n",
    "        SS_right = ( 1)**2 / (1 + 1)= 1/2 = 0.5\n",
    "        Gain = 5.3 + 0.5 - 6.25 - 5 = -5.45 < 0 => NO SPLITTING \n",
    "\n",
    "===== Candidate Split 3 =====\n",
    "\n",
    "Parent node -> X < 11.5\n",
    "Left child node -> [-3, -2, -1]\n",
    "Right child node -> [5, 1]\n",
    "\n",
    "SS_root = (-3 -2 - 1 + 5 + 1)**2 / (5 + 1) = 0\n",
    "SS_left = (-3 - 2 - 1)**2 / (3 + 1)= 36/4 = 9\n",
    "SS_right = (5 + 1)**2 / (2 + 1)= 36/3 = 12\n",
    "Gain = 9 + 12 - 0 - 5 = 16 > 0 => SPLITTING\n",
    "\n",
    "    ___SPLIT3.1___\n",
    "    \n",
    "    left:\n",
    "        ___SPLIT3.11___\n",
    "        \n",
    "        Parent node -> X < -2\n",
    "        Left child node, res_0 -> [-3]\n",
    "        Right child node, res_0 -> [-2, -1]\n",
    "        \n",
    "        SS_root = (-3 - 2 - 1)**2 / (3 + 1)= 36/4 = 9\n",
    "        SS_left = (-3)**2 / (1 + 1)= 9/2 = 4.5\n",
    "        SS_right = (-2 - 1)**2 / (2 + 1)= 9/3 = 3\n",
    "        Gain = 4.5 + 3 - 9 - 5 = -5.5 <0 => NO SPLITTING\n",
    "        \n",
    "        ___SPLIT3.12___\n",
    "        \n",
    "        Parent node -> X < 6.5\n",
    "        Left child node, res_0 -> [-3, -2]\n",
    "        Right child node, res_0 -> [-1]\n",
    "        \n",
    "        SS_root = (-3 - 2 - 1)**2 / (3 + 1)= 36/4 = 9\n",
    "        SS_left = (-3 - 2)**2 / (2 + 1)= 25/3 = 8.3\n",
    "        SS_right = (- 1)**2 / (1 + 1)= 1/2 = 0.5\n",
    "        Gain = 8.3 + 0.5 - 9 - 5 = -5.2 <0 => NO SPLITTING\n",
    "        \n",
    "\n",
    "    right:\n",
    "        ___SPLIT3.13___\n",
    "\n",
    "        Parent node -> X < 22.5\n",
    "        Left child node -> [5]\n",
    "        Right child node -> [1]\n",
    "        \n",
    "        SS_root = (5 + 1)**2 / (2 + 1)= 36/3 = 12\n",
    "        SS_left = (5)**2 / (1 + 1)= 25/2 = 12.5\n",
    "        SS_right = (1)**2 / (1 + 1)= 1/2 = 0.5\n",
    "        Gain = 12.5 + 0.5 - 12 - 5 = -6 < 0 => NO SPLITTING \n",
    "    \n",
    "        \n",
    "\n",
    "===== Candidate Split 4 =====\n",
    "\n",
    "Parent node -> X < 22.5\n",
    "Left child node -> [-3, -2, -1, 5]\n",
    "Right child node -> [1]\n",
    "\n",
    "SS_root = (-3 -2 - 1 + 5 + 1)**2 / (5 + 1) = 0\n",
    "SS_left = (-3 - 2 - 1 + 5)**2 / (4 + 1)= 1/5 = 0.20\n",
    "SS_right = (1)**2 / (1 + 1)= 1/2 = 0.5\n",
    "Gain = 0.20 + 0.5 - 0 - 5 = -4.3 < 0 => NO SPLITTING"
   ],
   "metadata": {
    "collapsed": false
   },
   "id": "ff1bae12216cc388"
  },
  {
   "cell_type": "markdown",
   "source": [
    "Let's take one of the possible trees and take a look on the model\n",
    "    "
   ],
   "metadata": {
    "collapsed": false
   },
   "id": "e7f0f7b51ae64faf"
  },
  {
   "cell_type": "markdown",
   "source": [
    "\n",
    "===== Candidate Split 2 =====\n",
    "\n",
    "Parent node -> X < 6.5\n",
    "Left child node -> [-3, -2]\n",
    "Right child node -> [-1, 5, 1]\n",
    "\n",
    "    ___SPLIT2.1___\n",
    "    \n",
    "    left:\n",
    "        ___SPLIT2.11___       \n",
    "        Parent node -> X < -2\n",
    "        Left child node, res_0 -> [-3]\n",
    "        Right child node, res_0 -> [-2]\n",
    "\n",
    "    right:\n",
    "        ___SPLIT2.12___\n",
    "        Parent node -> X < 11.5\n",
    "        Left child node -> [-1]\n",
    "        Right child node -> [5, 1]\n",
    "\n",
    "\n",
    "        \n"
   ],
   "metadata": {
    "collapsed": false
   },
   "id": "4e1c98a3ba8b4eaa"
  },
  {
   "cell_type": "markdown",
   "source": [
    "#### c) Calculate Output Values\n",
    "Output Values is calculated for all leaves of the decision tree.\n",
    "\n",
    "The formula is given by the following:"
   ],
   "metadata": {
    "collapsed": false
   },
   "id": "80aff5acaff6c93e"
  },
  {
   "cell_type": "code",
   "execution_count": null,
   "outputs": [],
   "source": [
    "Output Value = SUM(residual_i) / [SUM(n + lambda]"
   ],
   "metadata": {
    "collapsed": false
   },
   "id": "a36b56bec69dd6fe"
  },
  {
   "cell_type": "markdown",
   "source": [
    "\n",
    "===== Candidate Split 2 =====\n",
    "\n",
    "Parent node -> X < 6.5\n",
    "Left child node -> [-3, -2]\n",
    "Output  = (-3 - 2) / (2 + 1)= -5/3 = -1.6\n",
    "\n",
    "Right child node -> [-1, 5, 1]\n",
    "Output = (-1 + 5 -1) / (3 + 1)= 5/3 = 1.6\n",
    "\n",
    "    ___SPLIT2.1___\n",
    "    \n",
    "    left:\n",
    "        ___SPLIT2.11___\n",
    "        \n",
    "        Parent node -> X < -2\n",
    "        Left child node, res_0 -> [-3]\n",
    "        Output = (-3) / (1 + 1)= -3/2 = -1.5\n",
    "        \n",
    "        Right child node, res_0 -> [-2]\n",
    "        Output = (-2) / (1 + 1)= -2/2 = -1\n",
    "      \n",
    "     \n",
    "    right:\n",
    "        ___SPLIT2.12___\n",
    "\n",
    "        Parent node -> X < 11.5\n",
    "        Left child node -> [-1]\n",
    "        Output = (-1) / (1 + 1)= -1/2 = -0.5\n",
    "        \n",
    "        Right child node -> [5, 1]\n",
    "        Output = (5 + 1) / (2 + 1)= 6/3 = 2\n",
    "\n",
    "        "
   ],
   "metadata": {
    "collapsed": false
   },
   "id": "13922358f0eeb4c9"
  },
  {
   "cell_type": "markdown",
   "source": [
    "#### d) Predict the new values using our chosen DT"
   ],
   "metadata": {
    "collapsed": false
   },
   "id": "3de8a99273ef69a1"
  },
  {
   "cell_type": "markdown",
   "source": [
    "pred_1 = pred_0 + learning_rate * (DT_0(x))\n",
    "Where: \n",
    "        pred_0 = 3 \n",
    "        learning_rate = 0.1"
   ],
   "metadata": {
    "collapsed": false
   },
   "id": "68df3bae985cebda"
  },
  {
   "cell_type": "raw",
   "source": [
    "X\t|\tY   |Pred_0 |res_0 |output |Pred_1 \n",
    "===========================================\n",
    "-9 \t|   0   |\t3   | -3   | -1.5  | 3 - (0.1 * 1.5) = 2.85   \n",
    "5\t|\t1   |\t3   | -2   | -1    | 3 - (0.1 * 1)   = 2.9\n",
    "8\t|\t2   |\t3   | -1   | -0.5  | 3 - (0.1 * 0.5) = 2.95\n",
    "15\t|\t8   |\t3   |  5   | 2     | 3 - (0.1 * 2)   = 2.8\n",
    "20\t|\t4   |\t3   |  1   | 2     | 3 - (0.1 * 2)   = 2.8\n"
   ],
   "metadata": {
    "collapsed": false
   },
   "id": "c053875e55a6a673"
  },
  {
   "cell_type": "markdown",
   "source": [
    "### B) on a classification problem.\n",
    "\n",
    "Let’s use a simple example data to demonstrate how XGBoost algorithm works on a regression problem."
   ],
   "metadata": {
    "collapsed": false
   },
   "id": "e3b2771830461199"
  },
  {
   "cell_type": "code",
   "execution_count": null,
   "outputs": [],
   "source": [
    "X\t|\tY\n",
    "==========\n",
    "-7\t|\t0\n",
    "5\t|\t0\n",
    "6\t|\t1\n",
    "8\t|\t1\n",
    "9 \t|   1 "
   ],
   "metadata": {
    "collapsed": false
   },
   "id": "16bc6676852699f0"
  }
 ],
 "metadata": {
  "kernelspec": {
   "display_name": "Python 3",
   "language": "python",
   "name": "python3"
  },
  "language_info": {
   "codemirror_mode": {
    "name": "ipython",
    "version": 2
   },
   "file_extension": ".py",
   "mimetype": "text/x-python",
   "name": "python",
   "nbconvert_exporter": "python",
   "pygments_lexer": "ipython2",
   "version": "2.7.6"
  }
 },
 "nbformat": 4,
 "nbformat_minor": 5
}
