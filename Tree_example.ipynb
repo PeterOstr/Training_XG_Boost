{
 "cells": [
  {
   "cell_type": "markdown",
   "source": [
    "# Let’s use a simple example data to demonstrate how XGBoost algorithm works\n"
   ],
   "metadata": {
    "collapsed": false
   },
   "id": "bc0903359dff077a"
  },
  {
   "cell_type": "markdown",
   "source": [
    "### A) on a regression problem.\n",
    "\n",
    "Let’s use a simple example data to demonstrate how XGBoost algorithm works on a regression problem.\n"
   ],
   "metadata": {
    "collapsed": false
   },
   "id": "6f0b0feaca667696"
  },
  {
   "cell_type": "raw",
   "source": [
    "X\t|\tY   \n",
    "==========\n",
    "5\t|\t1   \n",
    "8\t|\t2   \n",
    "15\t|\t8   \n",
    "20\t|\t4   \n",
    "-9 \t|   0   "
   ],
   "metadata": {
    "collapsed": false
   },
   "id": "c0ff94d68f49ffc3"
  },
  {
   "cell_type": "markdown",
   "source": [
    "#### Step 1. Set an initial prediction\n",
    "Let’s set the initial prediction (F0(x)) to be 3. In other words, regardless of the value of X, the predicted Y will be 3 - mean value.\n"
   ],
   "metadata": {
    "collapsed": false
   },
   "id": "4744bcf8199fa154"
  },
  {
   "cell_type": "code",
   "execution_count": 9,
   "outputs": [
    {
     "data": {
      "text/plain": "3.0"
     },
     "execution_count": 9,
     "metadata": {},
     "output_type": "execute_result"
    }
   ],
   "source": [
    "x = [5,8,15,20,-9]\n",
    "y = [1,2,8,4,0]\n",
    "pred_0 = sum(y) / len(y)\n",
    "pred_0"
   ],
   "metadata": {
    "collapsed": false,
    "ExecuteTime": {
     "end_time": "2023-11-29T13:38:40.514659100Z",
     "start_time": "2023-11-29T13:38:40.487729400Z"
    }
   },
   "id": "c2061c203d833af"
  },
  {
   "cell_type": "raw",
   "source": [
    "X\t|\tY   |\tPred_0(mean)\n",
    "============================\n",
    "5\t|\t1   |\t3\n",
    "8\t|\t2   |\t3\n",
    "15\t|\t8   |\t3\n",
    "20\t|\t4   |\t3\n",
    "-9 \t|   0   |\t3"
   ],
   "metadata": {
    "collapsed": false
   },
   "id": "f0187cab1517c378"
  },
  {
   "cell_type": "markdown",
   "source": [
    "### Step 2. Calculate the residuals\n",
    "In this step we calculate the difference between the actual value (Y) and the predicted value (F0(x)).\n"
   ],
   "metadata": {
    "collapsed": false
   },
   "id": "22634783a4658d8a"
  },
  {
   "cell_type": "code",
   "execution_count": 13,
   "outputs": [
    {
     "data": {
      "text/plain": "[-2.0, -1.0, 5.0, 1.0, -3.0]"
     },
     "execution_count": 13,
     "metadata": {},
     "output_type": "execute_result"
    }
   ],
   "source": [
    "res_0 = []\n",
    "for i in range(len(y)):\n",
    "    res_0.append(y[i] - pred_0)\n",
    "res_0"
   ],
   "metadata": {
    "collapsed": false,
    "ExecuteTime": {
     "end_time": "2023-11-29T13:49:17.795142100Z",
     "start_time": "2023-11-29T13:49:17.774195900Z"
    }
   },
   "id": "c44aec44377a580a"
  },
  {
   "cell_type": "raw",
   "source": [
    "X\t|\tY   |Pred_0 |res_0 \n",
    "============================\n",
    "5\t|\t1   |\t3   | -2\n",
    "8\t|\t2   |\t3   | -1\n",
    "15\t|\t8   |\t3   |  5\n",
    "20\t|\t4   |\t3   |  1\n",
    "-9 \t|   0   |\t3   | -3"
   ],
   "metadata": {
    "collapsed": false
   },
   "id": "fcfa35ad44273d0c"
  },
  {
   "cell_type": "markdown",
   "source": [
    "### Step 3. Train model on the residuals\n",
    "\n",
    "Here, we build one or more tree-based models that are trained on [X, res].\n",
    "\n",
    "The following shows how a tree model is constructed."
   ],
   "metadata": {
    "collapsed": false
   },
   "id": "ec8b20a7cec723fe"
  },
  {
   "cell_type": "markdown",
   "source": [
    "#### A) Generate split candidates ####\n",
    "\n",
    "In this step we find one or more split candidates. The formula is with N rows we would have N - 1 split candidates.\n",
    "\n",
    "With our dataset example, here’s the result."
   ],
   "metadata": {
    "collapsed": false
   },
   "id": "dfc44ee82b95b50d"
  },
  {
   "cell_type": "raw",
   "source": [
    "===== Candidate Split 1 =====\n",
    "\n",
    "X\t|\tY   |Pred_0 |res_0 \n",
    "============================\n",
    "-9 \t|   0   |\t3   | -3\n",
    "————————————————————————————————————————————————————————————————————————> threshold = (-9 + 5) / 2 = -2\n",
    "5\t|\t1   |\t3   | -2\n",
    "8\t|\t2   |\t3   | -1\n",
    "15\t|\t8   |\t3   |  5\n",
    "20\t|\t4   |\t3   |  1\n",
    "\n",
    "\n",
    "===== Candidate Split 2 =====\n",
    "X\t|\tY   |Pred_0 |res_0 \n",
    "============================\n",
    "-9 \t|   0   |\t3   | -3\n",
    "5\t|\t1   |\t3   | -2\n",
    "————————————————————————————————————————————————————————————————————————> threshold = (5 + 8) / 2 = 6.5\n",
    "8\t|\t2   |\t3   | -1\n",
    "15\t|\t8   |\t3   |  5\n",
    "20\t|\t4   |\t3   |  1\n",
    "\n",
    "===== Candidate Split 3 =====\n",
    "\n",
    "X\t|\tY   |Pred_0 |res_0 \n",
    "============================\n",
    "-9 \t|   0   |\t3   | -3\n",
    "5\t|\t1   |\t3   | -2\n",
    "8\t|\t2   |\t3   | -1\n",
    "————————————————————————————————————————————————————————————————————————> threshold = (8 + 15) / 2 = 11.5\n",
    "15\t|\t8   |\t3   |  5\n",
    "20\t|\t4   |\t3   |  1\n",
    "\n",
    "===== Candidate Split 4 =====\n",
    "\n",
    "X\t|\tY   |Pred_0 |res_0 \n",
    "============================\n",
    "-9 \t|   0   |\t3   | -3\n",
    "5\t|\t1   |\t3   | -2\n",
    "8\t|\t2   |\t3   | -1\n",
    "15\t|\t8   |\t3   |  5\n",
    "————————————————————————————————————————————————————————————————————————> threshold = (15 + 20) / 2 = 22.5\n",
    "20\t|\t4   |\t3   |  1\n",
    "\n",
    "\n",
    "\n"
   ],
   "metadata": {
    "collapsed": false
   },
   "id": "9ddc4d29e1dbf338"
  },
  {
   "cell_type": "markdown",
   "source": [
    "The threshold will be used to create two child nodes. \n",
    "\n",
    "Here’s the complete parent-child nodes for each candidate."
   ],
   "metadata": {
    "collapsed": false
   },
   "id": "8d9d285725bf8c41"
  },
  {
   "cell_type": "raw",
   "source": [
    "===== Candidate Split 1 =====\n",
    "\n",
    "Parent node -> X < -2\n",
    "Left child node -> [-9]\n",
    "Right child node -> [0.5, -0.5, -0.5]\n",
    "\n",
    "===== Candidate Split 2 =====\n",
    "\n",
    "Parent node -> X < 2.5\n",
    "Left child node -> [-0.5, 0.5]\n",
    "Right child node -> [-0.5, 0.5]\n",
    "\n",
    "===== Candidate Split 3 =====\n",
    "\n",
    "Parent node -> X < 3.5\n",
    "Left child node -> [-0.5, 0.5, -0.5]\n",
    "Right child node -> [0.5]"
   ],
   "metadata": {
    "collapsed": false
   },
   "id": "5658de96096caa8f"
  },
  {
   "cell_type": "code",
   "execution_count": null,
   "outputs": [],
   "source": [],
   "metadata": {
    "collapsed": false
   },
   "id": "ffb4c2488c000893"
  },
  {
   "cell_type": "code",
   "execution_count": null,
   "outputs": [],
   "source": [],
   "metadata": {
    "collapsed": false
   },
   "id": "760ec0446eca2e35"
  },
  {
   "cell_type": "code",
   "execution_count": null,
   "outputs": [],
   "source": [],
   "metadata": {
    "collapsed": false
   },
   "id": "930f7162166b699d"
  }
 ],
 "metadata": {
  "kernelspec": {
   "display_name": "Python 3",
   "language": "python",
   "name": "python3"
  },
  "language_info": {
   "codemirror_mode": {
    "name": "ipython",
    "version": 2
   },
   "file_extension": ".py",
   "mimetype": "text/x-python",
   "name": "python",
   "nbconvert_exporter": "python",
   "pygments_lexer": "ipython2",
   "version": "2.7.6"
  }
 },
 "nbformat": 4,
 "nbformat_minor": 5
}
